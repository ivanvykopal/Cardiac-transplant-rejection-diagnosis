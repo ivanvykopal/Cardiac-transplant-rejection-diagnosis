{
 "cells": [
  {
   "cell_type": "markdown",
   "id": "f4a9a889-f461-41bc-b3df-ca37bc5bfbd1",
   "metadata": {
    "pycharm": {
     "name": "#%%\n"
    }
   },
   "source": [
    "# Experimenty s Watershed do DP\n",
    "\n",
    "**Autor: Bc. Ivan Vykopal**"
   ]
  },
  {
   "cell_type": "code",
   "execution_count": null,
   "id": "d5a72d04-8060-456a-84c8-275ff05fe01b",
   "metadata": {},
   "outputs": [],
   "source": [
    "import cv2 as cv\n",
    "import numpy as np"
   ]
  },
  {
   "cell_type": "code",
   "execution_count": null,
   "id": "b265695a-cfe6-4576-82cf-49e813e9aa70",
   "metadata": {
    "pycharm": {
     "name": "#%%\n"
    }
   },
   "outputs": [],
   "source": [
    "img = cv.imread('data/1225_21_HE_5_40.tif')"
   ]
  },
  {
   "cell_type": "code",
   "execution_count": null,
   "id": "22aedc8f-df7e-4078-a8c4-d589a10cb171",
   "metadata": {
    "pycharm": {
     "name": "#%%\n"
    }
   },
   "outputs": [],
   "source": [
    "gray = cv.cvtColor(img, cv.COLOR_BGR2GRAY)\n",
    "ret, thresh = cv.threshold(gray, 0, 255,cv.THRESH_BINARY+cv.THRESH_OTSU)"
   ]
  },
  {
   "cell_type": "code",
   "execution_count": null,
   "id": "78016e0e-3b36-437a-a2c0-a6723eb6bb1c",
   "metadata": {
    "pycharm": {
     "name": "#%%\n"
    }
   },
   "outputs": [],
   "source": [
    "kernel = np.ones((3,3),np.uint8)\n",
    "closing = cv.morphologyEx(thresh,cv.MORPH_CLOSE, kernel, iterations = 1)"
   ]
  },
  {
   "cell_type": "code",
   "execution_count": null,
   "id": "3280cafa-ae1b-41c4-bcbf-96a357815e1a",
   "metadata": {
    "pycharm": {
     "name": "#%%\n"
    }
   },
   "outputs": [],
   "source": [
    "dist = cv.distanceTransform(closing, cv.DIST_L2, 3)"
   ]
  },
  {
   "cell_type": "code",
   "execution_count": null,
   "id": "c568b6de-bdec-478a-a85b-c51c106b3ba6",
   "metadata": {
    "pycharm": {
     "name": "#%%\n"
    }
   },
   "outputs": [],
   "source": [
    "ret, dist1 = cv.threshold(dist, 0.0005*dist.max(), 255, 0)"
   ]
  },
  {
   "cell_type": "code",
   "execution_count": null,
   "id": "68b0d951-892b-47cc-91fc-8ca4281922ce",
   "metadata": {
    "pycharm": {
     "name": "#%%\n"
    }
   },
   "outputs": [],
   "source": [
    "cv.imshow('Image', dist1)\n",
    "cv.waitKey(0)"
   ]
  },
  {
   "cell_type": "code",
   "execution_count": null,
   "id": "7ca96818-424d-4e19-872d-c2b180badb5a",
   "metadata": {
    "pycharm": {
     "name": "#%%\n"
    }
   },
   "outputs": [],
   "source": [
    "markers = np.zeros(dist.shape, dtype=np.int32)\n",
    "dist_8u = dist1.astype('uint8')\n",
    "contours, _ = cv.findContours(dist_8u, cv.RETR_EXTERNAL, cv.CHAIN_APPROX_SIMPLE)\n",
    "for i in range(len(contours)):\n",
    "    cv.drawContours(markers, contours, i, (i+1), -1)"
   ]
  },
  {
   "cell_type": "code",
   "execution_count": null,
   "id": "9c14b5bf-379c-48b2-b79b-31ee4aa134f6",
   "metadata": {
    "pycharm": {
     "name": "#%%\n"
    }
   },
   "outputs": [],
   "source": [
    "markers = cv.watershed(img, markers)\n",
    "img[markers == -1] = [0,0,255]"
   ]
  },
  {
   "cell_type": "code",
   "execution_count": null,
   "id": "d7fe5be5-2c85-46c2-8ec0-3dd923c973c3",
   "metadata": {
    "pycharm": {
     "name": "#%%\n"
    }
   },
   "outputs": [],
   "source": [
    "cv.imshow('Image', img)\n",
    "cv.waitKey(0)"
   ]
  }
 ],
 "metadata": {
  "kernelspec": {
   "display_name": "Python 3 (ipykernel)",
   "language": "python",
   "name": "python3"
  },
  "language_info": {
   "codemirror_mode": {
    "name": "ipython",
    "version": 3
   },
   "file_extension": ".py",
   "mimetype": "text/x-python",
   "name": "python",
   "nbconvert_exporter": "python",
   "pygments_lexer": "ipython3",
   "version": "3.10.2"
  }
 },
 "nbformat": 4,
 "nbformat_minor": 5
}
