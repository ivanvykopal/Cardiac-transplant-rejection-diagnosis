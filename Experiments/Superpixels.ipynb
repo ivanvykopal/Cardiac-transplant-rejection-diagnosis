{
 "cells": [
  {
   "attachments": {},
   "cell_type": "markdown",
   "id": "cce0c0c8-5cde-4bbf-b797-84d4de6528f8",
   "metadata": {
    "pycharm": {
     "name": "#%%\n"
    }
   },
   "source": [
    "# Experimenty so Superpixelmi do DP\n",
    "\n",
    "**Autor: Bc. Ivan Vykopal**"
   ]
  },
  {
   "cell_type": "code",
   "execution_count": null,
   "id": "b606e675-df94-40c2-bfa7-2a9ac568245d",
   "metadata": {},
   "outputs": [],
   "source": [
    "import cv2 as cv\n",
    "import numpy as np"
   ]
  },
  {
   "cell_type": "code",
   "execution_count": null,
   "id": "6ab20ac2-92af-4c14-a037-da5135c21ac2",
   "metadata": {
    "pycharm": {
     "name": "#%%\n"
    }
   },
   "outputs": [],
   "source": [
    "img = cv.imread('data/1225_21_HE_5_40.tif')"
   ]
  },
  {
   "cell_type": "code",
   "execution_count": null,
   "id": "d90edea4-aa43-4034-afc4-fa489edb8922",
   "metadata": {
    "pycharm": {
     "name": "#%%\n"
    }
   },
   "outputs": [],
   "source": [
    "img.shape"
   ]
  },
  {
   "cell_type": "code",
   "execution_count": null,
   "id": "db28cead-7574-4a91-942a-40a9fdf468ab",
   "metadata": {
    "pycharm": {
     "name": "#%%\n"
    }
   },
   "outputs": [],
   "source": [
    "slic = cv.ximgproc.createSuperpixelSLIC(img, region_size = 15 , ruler =  15.0 )  "
   ]
  },
  {
   "cell_type": "code",
   "execution_count": null,
   "id": "ea9461f7-0347-46ee-9343-4365e9e5b2b7",
   "metadata": {
    "pycharm": {
     "name": "#%%\n"
    }
   },
   "outputs": [],
   "source": [
    "slic.iterate(100)"
   ]
  },
  {
   "cell_type": "code",
   "execution_count": null,
   "id": "19c829c1-95bb-4a8d-8439-629ea5d404c4",
   "metadata": {
    "pycharm": {
     "name": "#%%\n"
    }
   },
   "outputs": [],
   "source": [
    "npix = slic.getNumberOfSuperpixels();"
   ]
  },
  {
   "cell_type": "code",
   "execution_count": null,
   "id": "e46d70c1-78c8-48b9-9659-d7277a2bcab8",
   "metadata": {
    "pycharm": {
     "name": "#%%\n"
    }
   },
   "outputs": [],
   "source": [
    "print(npix)"
   ]
  },
  {
   "cell_type": "code",
   "execution_count": null,
   "id": "3d0286ed-d5f0-44aa-9efd-6ca2ed594d4b",
   "metadata": {
    "pycharm": {
     "name": "#%%\n"
    }
   },
   "outputs": [],
   "source": [
    "mask = slic.getLabelContourMask(False);"
   ]
  },
  {
   "cell_type": "code",
   "execution_count": null,
   "id": "90d4afb0-311e-48cc-87d7-d807e75982f8",
   "metadata": {},
   "outputs": [],
   "source": [
    "cv.imshow('Image', mask)\n",
    "cv.waitKey(0)"
   ]
  },
  {
   "cell_type": "code",
   "execution_count": null,
   "id": "3b9e029c-bb94-4c8a-9df8-5ddce05fa8a8",
   "metadata": {
    "pycharm": {
     "name": "#%%\n"
    }
   },
   "outputs": [],
   "source": [
    "mask = cv.dilate(mask, (3,3))"
   ]
  },
  {
   "cell_type": "code",
   "execution_count": null,
   "id": "700a6e9e-b8e6-4379-85b0-9b5efb8f912e",
   "metadata": {
    "pycharm": {
     "name": "#%%\n"
    }
   },
   "outputs": [],
   "source": [
    "cv.imshow('Image', mask)\n",
    "cv.waitKey(0)"
   ]
  },
  {
   "cell_type": "code",
   "execution_count": null,
   "id": "1f3bd73f-8daa-42e9-baba-d4c369490951",
   "metadata": {
    "pycharm": {
     "name": "#%%\n"
    }
   },
   "outputs": [],
   "source": [
    "print(img.shape)"
   ]
  },
  {
   "cell_type": "code",
   "execution_count": null,
   "id": "71dc4d99-615f-4ffc-9de6-323218396f0a",
   "metadata": {
    "pycharm": {
     "name": "#%%\n"
    }
   },
   "outputs": [],
   "source": [
    "height,width,channels = img.shape"
   ]
  },
  {
   "cell_type": "code",
   "execution_count": null,
   "id": "67d4188d-63bc-4a9d-bd41-8e12e342a954",
   "metadata": {
    "pycharm": {
     "name": "#%%\n"
    }
   },
   "outputs": [],
   "source": [
    "mask_inv = cv.bitwise_not(mask)\n",
    "result_bg = cv.bitwise_and(img, img, mask=mask_inv)"
   ]
  },
  {
   "cell_type": "code",
   "execution_count": null,
   "id": "d2b76164-056d-44bd-be31-752cd42900ed",
   "metadata": {
    "pycharm": {
     "name": "#%%\n"
    }
   },
   "outputs": [],
   "source": [
    "cv.imshow('Image', result_bg)\n",
    "cv.waitKey(0)"
   ]
  }
 ],
 "metadata": {
  "kernelspec": {
   "display_name": "Python 3 (ipykernel)",
   "language": "python",
   "name": "python3"
  },
  "language_info": {
   "codemirror_mode": {
    "name": "ipython",
    "version": 3
   },
   "file_extension": ".py",
   "mimetype": "text/x-python",
   "name": "python",
   "nbconvert_exporter": "python",
   "pygments_lexer": "ipython3",
   "version": "3.10.2"
  }
 },
 "nbformat": 4,
 "nbformat_minor": 5
}
