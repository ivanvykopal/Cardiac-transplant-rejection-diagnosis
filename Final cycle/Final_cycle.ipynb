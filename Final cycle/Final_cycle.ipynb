{
 "cells": [
  {
   "attachments": {},
   "cell_type": "markdown",
   "metadata": {
    "pycharm": {
     "name": "#%%\n"
    }
   },
   "source": [
    "# Spustenie predikcie nad vsi snímkami\n",
    "\n",
    "**Autor: Bc. Ivan Vykopal**\n",
    "\n",
    "Tento notebook obsahuje funkcionalitu pre spustenie predikcie modelom nad všetkými WSI snímkami zo zvoleného adreása."
   ]
  },
  {
   "cell_type": "code",
   "execution_count": null,
   "metadata": {},
   "outputs": [],
   "source": [
    "import glob\n",
    "import timeit\n",
    "import pandas as pd\n",
    "from final_cycle_run import run"
   ]
  },
  {
   "cell_type": "code",
   "execution_count": null,
   "metadata": {},
   "outputs": [],
   "source": [
    "df = pd.DataFrame()"
   ]
  },
  {
   "cell_type": "code",
   "execution_count": null,
   "metadata": {},
   "outputs": [],
   "source": [
    "in_directory = r'E:\\Master Thesis\\Data\\EMB-IKEM-2022-03-09'\n",
    "out_directory = r'E:\\Master Thesis\\DP3 results\\SRel2'\n",
    "cell_directory = r'E:\\Master Thesis\\Data\\EMB-IKEM-2022-03-09\\QuPath project EMB - anotations\\SRel classification'"
   ]
  },
  {
   "cell_type": "code",
   "execution_count": null,
   "metadata": {},
   "outputs": [],
   "source": [
    "files = glob.glob(f'{in_directory}\\\\*HE.vsi') # Pre HE snímky\n",
    "# files = glob.glob(f'{in_directory}\\\\*SRel.vsi') # Pre SRel snímky"
   ]
  },
  {
   "cell_type": "code",
   "execution_count": null,
   "metadata": {},
   "outputs": [],
   "source": [
    "for idx, file in enumerate(files[:]):\n",
    "    name = file.split('\\\\')[-1].replace('.vsi','')\n",
    "    print(f'Processing: {file}')\n",
    "    start_time = timeit.default_timer()\n",
    "    run(\n",
    "        model_config_paths=['unet_srel.yaml'], # U-Net natrénovaný na SRel dátach\n",
    "        # model_config_paths=['stackedunet_lab.yaml'], # StackedU-Net\n",
    "        # model_config_paths=['multiscaleattunet.yaml'], # Multi-scale Attention U-Net\n",
    "        # model_config_paths=['deeplabv3plus1_final.yaml', 'deeplabv3plus2_final.yaml', 'deeplabv3plus3_final.yaml'], # DeepLabV3+\n",
    "        # model_config_paths=['nested_final.yaml'], # U-Net++\n",
    "        image_path=file,\n",
    "        output_path=out_directory,\n",
    "        cell_path=f'{cell_directory}\\\\{name}.vsi - 20x.geojson',\n",
    "        temp_file_path='./temp'\n",
    "    )\n",
    "    end_time = timeit.default_timer()\n",
    "    print(\"Time taken:\", end_time - start_time, \"seconds\")\n",
    "    df = pd.concat([\n",
    "        df,\n",
    "        pd.DataFrame([\n",
    "            {\n",
    "                'name': name,\n",
    "                'time': end_time - start_time,\n",
    "                'out_path': f'{out_directory}\\\\{name}.geojson'\n",
    "            }\n",
    "        ])\n",
    "    ])"
   ]
  },
  {
   "cell_type": "code",
   "execution_count": null,
   "metadata": {},
   "outputs": [],
   "source": [
    "print(\"Time taken:\", end_time - start_time, \"seconds\")"
   ]
  },
  {
   "cell_type": "code",
   "execution_count": null,
   "metadata": {},
   "outputs": [],
   "source": [
    "df.head(25)"
   ]
  }
 ],
 "metadata": {
  "kernelspec": {
   "display_name": "Python 3 (ipykernel)",
   "language": "python",
   "name": "python3"
  },
  "language_info": {
   "codemirror_mode": {
    "name": "ipython",
    "version": 3
   },
   "file_extension": ".py",
   "mimetype": "text/x-python",
   "name": "python",
   "nbconvert_exporter": "python",
   "pygments_lexer": "ipython3",
   "version": "3.10.2"
  }
 },
 "nbformat": 4,
 "nbformat_minor": 4
}
