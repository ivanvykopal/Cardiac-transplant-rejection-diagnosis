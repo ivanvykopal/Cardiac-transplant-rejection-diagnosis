{
 "cells": [
  {
   "cell_type": "markdown",
   "id": "72f4aa47-c78c-4311-83ad-f3595383fd85",
   "metadata": {
    "pycharm": {
     "name": "#%%\n"
    }
   },
   "source": [
    "# Vytvorenie masiek\n",
    "\n",
    "**Autor: Bc. Ivan Vykopal**\n",
    "\n",
    "Notebook pre vytvorenie binárnych masiek z **mat** súboru do podoby **png**, pričom sa zameriavame na segmentáciu jadier bez uložených tried buniek."
   ]
  },
  {
   "cell_type": "code",
   "execution_count": null,
   "id": "e4db701c-36c4-4e76-8980-6954d485dba4",
   "metadata": {},
   "outputs": [],
   "source": [
    "import scipy.io as sio\n",
    "import numpy as np\n",
    "import glob\n",
    "import matplotlib.pyplot as plt\n",
    "import cv2 as cv"
   ]
  },
  {
   "cell_type": "code",
   "execution_count": null,
   "id": "f8a26beb-ab32-41d7-b017-536acf2038f6",
   "metadata": {
    "pycharm": {
     "name": "#%%\n"
    }
   },
   "outputs": [],
   "source": [
    "files = glob.glob('lizard-data\\\\lizard_labels\\\\Lizard_Labels\\\\Labels\\\\*.mat')"
   ]
  },
  {
   "cell_type": "code",
   "execution_count": null,
   "id": "152a79de-a5d5-48ea-bb56-ff18a84f3ea0",
   "metadata": {
    "pycharm": {
     "name": "#%%\n"
    }
   },
   "outputs": [],
   "source": [
    "for file in files:\n",
    "    file_name = file.replace('lizard-data\\\\lizard_labels\\\\Lizard_Labels\\\\Labels\\\\', '').replace('.mat', '.png')\n",
    "    label = sio.loadmat(file)\n",
    "    mask = label['inst_map']\n",
    "    mask[np.where(mask > 0)] = 1\n",
    "    cv.imwrite('lizard-data\\\\labels\\\\' + file_name, mask * 255)"
   ]
  }
 ],
 "metadata": {
  "kernelspec": {
   "display_name": "Python 3 (ipykernel)",
   "language": "python",
   "name": "python3"
  },
  "language_info": {
   "codemirror_mode": {
    "name": "ipython",
    "version": 3
   },
   "file_extension": ".py",
   "mimetype": "text/x-python",
   "name": "python",
   "nbconvert_exporter": "python",
   "pygments_lexer": "ipython3",
   "version": "3.10.2"
  }
 },
 "nbformat": 4,
 "nbformat_minor": 5
}
