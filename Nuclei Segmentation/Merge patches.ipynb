{
 "cells": [
  {
   "cell_type": "markdown",
   "id": "5486d4c3-6e59-48b5-a398-16e1cfaff580",
   "metadata": {
    "pycharm": {
     "name": "#%%\n"
    }
   },
   "source": [
    "# Spojenie výsekov\n",
    "\n",
    "**Autor: Bc. Ivan Vykopal**\n",
    "\n",
    "Notebook pre spájanie výsekov po vykonaní predikcie pre získanie pôvodnej veľkostí snímok."
   ]
  },
  {
   "cell_type": "code",
   "execution_count": null,
   "id": "afff7e15-1e50-4db7-82c0-18fa1a10fe34",
   "metadata": {},
   "outputs": [],
   "source": [
    "import numpy as np\n",
    "import json\n",
    "import cv2 as cv\n",
    "from tqdm import tqdm"
   ]
  },
  {
   "cell_type": "code",
   "execution_count": null,
   "id": "39268ca9-ce51-4057-b415-ede786bacb53",
   "metadata": {
    "pycharm": {
     "name": "#%%\n"
    }
   },
   "outputs": [],
   "source": [
    "with open(\"D:\\\\Master Thesis\\\\Data\\\\VSI processing\\\\images.json\") as f:\n",
    "    images = json.load(f)"
   ]
  },
  {
   "cell_type": "code",
   "execution_count": null,
   "id": "6d8e1999-ff0e-4b3e-b5c6-3be4b27731a1",
   "metadata": {
    "pycharm": {
     "name": "#%%\n"
    }
   },
   "outputs": [],
   "source": [
    "def merge_patches(json_file, directory):\n",
    "    for image in json_file['images']:\n",
    "        name = image['name'].replace('.png','').replace('.tif','').replace('.jpg','')\n",
    "        patch_size = json_file['patch_size']\n",
    "        \n",
    "        height = image['height']\n",
    "        width = image['width']\n",
    "        \n",
    "        canvas = np.zeros((height, width, 1))\n",
    "        for patch in tqdm(image['patches'], total=len(image['patches'])):\n",
    "            y, x = patch\n",
    "            y_size = y * patch_size\n",
    "            x_size = x * patch_size\n",
    "            \n",
    "            width_x = width - x_size if (x_size + patch_size > width) else patch_size\n",
    "            height_y = height - y_size if (y_size + patch_size > height) else patch_size\n",
    "            img = cv.imread(directory + '\\\\' + name + '\\\\' + name + '_' + str(y) + '_' + str(x) + '.png')\n",
    "            canvas[y_size: y_size + height_y, x_size: x_size + width_x, :] = img[:height_y, :width_x ,:1]\n",
    "        \n",
    "        cv.imwrite(image['name'] + '.png', canvas)    "
   ]
  },
  {
   "cell_type": "code",
   "execution_count": null,
   "id": "fdc22f69-a8e3-4921-9478-166347f84e1a",
   "metadata": {
    "pycharm": {
     "name": "#%%\n"
    }
   },
   "outputs": [],
   "source": [
    "#merge_patches(images, 'lizard-data/data/normalized')\n",
    "data = 'D:\\\\Master Thesis\\\\Data\\\\VSI processing\\\\labels - nested'"
   ]
  },
  {
   "cell_type": "code",
   "execution_count": null,
   "id": "8cec5dcd-a4c1-49d3-9fff-6fb1763ede19",
   "metadata": {
    "pycharm": {
     "name": "#%%\n"
    }
   },
   "outputs": [],
   "source": [
    "merge_patches(images, data)"
   ]
  }
 ],
 "metadata": {
  "kernelspec": {
   "display_name": "Python 3 (ipykernel)",
   "language": "python",
   "name": "python3"
  },
  "language_info": {
   "codemirror_mode": {
    "name": "ipython",
    "version": 3
   },
   "file_extension": ".py",
   "mimetype": "text/x-python",
   "name": "python",
   "nbconvert_exporter": "python",
   "pygments_lexer": "ipython3",
   "version": "3.10.2"
  }
 },
 "nbformat": 4,
 "nbformat_minor": 5
}
