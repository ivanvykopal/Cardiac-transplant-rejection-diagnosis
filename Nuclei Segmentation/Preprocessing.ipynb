{
 "cells": [
  {
   "cell_type": "markdown",
   "id": "875bb2e6-475f-414b-a19d-cc244e0bdccd",
   "metadata": {
    "pycharm": {
     "name": "#%%\n"
    }
   },
   "source": [
    "# Predspracovanie snímok z Lizard datasetu\n",
    "\n",
    "**Autor: Bc. Ivan Vykopal**\n",
    "\n",
    "Tento notebook obsahuje predsrpacovanie snímok predovšetkým z Lizard datasetu, pričoms a zameriavame na vytovreni výsekov o veľkosti 512 x 512 pixelov."
   ]
  },
  {
   "cell_type": "code",
   "execution_count": null,
   "id": "4aa709f2-7a57-47a9-ad0b-b7209a9f452b",
   "metadata": {},
   "outputs": [],
   "source": [
    "import glob\n",
    "import math\n",
    "import os\n",
    "import json"
   ]
  },
  {
   "cell_type": "code",
   "execution_count": null,
   "id": "d4c64e3b-8a74-4ce9-98ed-3c1c88890bdf",
   "metadata": {
    "pycharm": {
     "name": "#%%\n"
    }
   },
   "outputs": [],
   "source": [
    "def create_patches(file, root, directory, patch_size=512, check_size=False):\n",
    "    \n",
    "    file_name = file.replace(root,'').replace('.jpg', '').replace('.png', '').replace('.tif', '')\n",
    "    img = cv.imread(file)\n",
    "    # get image width and height\n",
    "    size_y, size_x, channels = img.shape\n",
    "    \n",
    "    json = {\n",
    "        \"name\": file.replace(root,''),\n",
    "        \"height\": size_y,\n",
    "        \"width\": size_x,\n",
    "        \"channels\": channels,\n",
    "        \"patches\": []\n",
    "    }\n",
    "\n",
    "    # count number of patches on every axis\n",
    "    x_patches = int(math.ceil(size_x / patch_size))\n",
    "    y_patches = int(math.ceil(size_y / patch_size))\n",
    "\n",
    "    # iterate over patches\n",
    "    for y_patch in range(y_patches):# riadok\n",
    "        for x_patch in range(x_patches): #stlpec\n",
    "            # get x and y coors of the start of the patch\n",
    "            x = x_patch * patch_size\n",
    "            y = y_patch * patch_size\n",
    "            json['patches'].append((y_patch, x_patch))\n",
    "\n",
    "            # check patch width and height\n",
    "            width = size_x - x if (x + patch_size > size_x) else patch_size\n",
    "            height = size_y - y if (y + patch_size > size_y) else patch_size\n",
    "            \n",
    "            if check_size:\n",
    "                patch = np.full((patch_size, patch_size, channels), 255)\n",
    "                patch[0:height, 0:width, :] = img[y: y + height, x:x + width, :]\n",
    "            else:\n",
    "                patch = img[y: y + height, x:x + width, :]\n",
    "\n",
    "            # save image patch, file name contain x and y value of patch\n",
    "            output_name = os.path.join(\n",
    "                directory, file_name + '_' + str(y_patch) + '_' + str(x_patch) + '.tif')\n",
    "            cv.imwrite(output_name, patch)\n",
    "        \n",
    "    return json"
   ]
  },
  {
   "cell_type": "code",
   "execution_count": null,
   "id": "2f949a2a-c147-45cd-be24-21ddd4fb6f2c",
   "metadata": {
    "pycharm": {
     "name": "#%%\n"
    }
   },
   "outputs": [],
   "source": [
    "source = ['lizard-data\\\\images\\\\']\n",
    "destination = ['lizard-data\\\\patches']\n",
    "types = ['train', 'test']\n",
    "\n",
    "for i in range(len(source)):\n",
    "    final_json = {\n",
    "        \"images\": [],\n",
    "        \"patch_size\": 512\n",
    "    }\n",
    "    print('Solving ' + str(i) + ' index of ' + str(len(source)))\n",
    "    files = glob.glob(source[i] + '*')\n",
    "    for file in files:\n",
    "        img_json = create_patches(file, source[i], destination[i], patch_size=final_json['patch_size'], check_size=True)\n",
    "        final_json['images'].append(img_json)\n",
    "\n",
    "    json_string = json.dumps(final_json)\n",
    "    with open('images-' + types[i] + '.json', 'w') as outfile:\n",
    "        outfile.write(json_string)\n"
   ]
  }
 ],
 "metadata": {
  "kernelspec": {
   "display_name": "Python 3 (ipykernel)",
   "language": "python",
   "name": "python3"
  },
  "language_info": {
   "codemirror_mode": {
    "name": "ipython",
    "version": 3
   },
   "file_extension": ".py",
   "mimetype": "text/x-python",
   "name": "python",
   "nbconvert_exporter": "python",
   "pygments_lexer": "ipython3",
   "version": "3.10.2"
  }
 },
 "nbformat": 4,
 "nbformat_minor": 5
}
