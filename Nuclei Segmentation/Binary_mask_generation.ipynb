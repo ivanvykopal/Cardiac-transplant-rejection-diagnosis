{
 "cells": [
  {
   "cell_type": "markdown",
   "metadata": {
    "pycharm": {
     "name": "#%% md\n"
    }
   },
   "source": [
    "# Script to generate binary masks of each cell-type\n",
    "# Created by Ruchika Verma\n",
    "\n",
    "This code will create separate folder for each patient and subfolders for annotated images under each patient's folder.\n",
    "\n",
    "Each sub-folder corresponding to sub-images under each patient will contain 4 sub-sub-folders (Epithelial, Lymphocyte, Neutrophil and Macrophage) to save their corresponding binary-masks with value 255 for each cell-type and background 0\n",
    "\n",
    "# Input\n",
    "data_path: Specify the path of downloaded images\n",
    "\n",
    "destination_path = Specify the path to save corresponding binary masks\n",
    "\n",
    "# Output\n",
    "MoNuSAC_masks directory in the destination_path\n",
    "\n",
    "Binary masks will be saved in each sub-sub-folder\n",
    "\n",
    "Folder -- Patient name\n",
    "\n",
    "Sub-folder -- Sub-images under each patient\n",
    "\n",
    "Sub-Sub-folder -- Annotated cell-type on each sub-image\n"
   ]
  },
  {
   "cell_type": "code",
   "execution_count": null,
   "metadata": {
    "pycharm": {
     "name": "#%%\n"
    }
   },
   "outputs": [],
   "source": [
    "#Process whole slide images\n",
    "import os\n",
    "import openslide\n",
    "from xml.dom import minidom\n",
    "import numpy as np\n",
    "import openslide\n",
    "from openslide import open_slide  \n",
    "from glob import glob\n",
    "import cv2\n",
    "import matplotlib.pyplot as plt\n",
    "import scipy.io as sio\n",
    "from PIL import Image\n",
    "import scipy\n",
    "import scipy.ndimage\n",
    "from shapely.geometry import Polygon\n",
    "from skimage import draw\n",
    "import xml.etree.ElementTree as ET"
   ]
  },
  {
   "cell_type": "code",
   "execution_count": null,
   "metadata": {
    "pycharm": {
     "name": "#%%\n"
    }
   },
   "outputs": [],
   "source": [
    "# Read svs files from the desired path\n",
    "count = 0\n",
    "data_path = 'C:\\\\Users\\\\ivanv\\\\Desktop\\\\Ivan\\FIIT\\02_ING\\Master thesis\\Code\\U-Net experiments\\MoNuSAC_images_and_annotations' #Path to read data from\n",
    "destination_path = 'C:\\Users\\ivanv\\Desktop\\Ivan\\FIIT\\02_ING\\Master thesis\\Code\\U-Net experiments\\Masks' # Path to save binary masks corresponding to xml files\n",
    "os.chdir(destination_path)\n",
    "\n",
    "try:\n",
    "    os.mkdir(destination_path+'\\MoNuSAC_masks')\n",
    "except OSError:\n",
    "    print (\"Creation of the mask directory %s failed\" % destination_path)\n",
    "    \n",
    "os.chdir(destination_path+'\\MoNuSAC_masks')#Create folder named as MoNuSAC_masks\n",
    "patients = [x[0] for x in os.walk(data_path)]#Total patients in the data_path\n",
    "len(patients)"
   ]
  },
  {
   "cell_type": "code",
   "execution_count": null,
   "metadata": {
    "pycharm": {
     "name": "#%%\n"
    }
   },
   "outputs": [],
   "source": [
    "for patient_loc in patients:\n",
    "    patient_name = patient_loc[len(data_path)+1:]#Patient name\n",
    "    print(patient_name)\n",
    "    \n",
    "    ## To make patient's name directory in the destination folder\n",
    "    try:\n",
    "        os.mkdir(patient_name)\n",
    "    except OSError:\n",
    "        print (\"\\n Creation of the patient's directory %s failed\" % patient_name)\n",
    "        \n",
    "    ## Read sub-images of each patient in the data path        \n",
    "    sub_images = glob(patient_loc+'/*.svs')\n",
    "    for sub_image_loc in sub_images:\n",
    "        sub_image_name = sub_image_loc[len(data_path)+len(patient_name)+1:-4]        \n",
    "        print(sub_image_name)\n",
    "        \n",
    "        ## To make sub_image directory under the patient's folder\n",
    "        sub_image = './'+patient_name+'/'+sub_image_name #Destination path\n",
    "        try:\n",
    "            os.mkdir(sub_image)\n",
    "        except OSError:\n",
    "            print (\"\\n Creation of the patient's directory %s failed\" % sub_image)\n",
    "            \n",
    "        image_name = sub_image_loc\n",
    "        img = openslide.OpenSlide(image_name)\n",
    "                                  \n",
    "        # If svs image needs to save in tif\n",
    "        cv2.imwrite(sub_image_loc[:-4]+'.tif', np.array(img.read_region((0,0),0,img.level_dimensions[0])))      \n",
    "   \n",
    "        # Read xml file\n",
    "        xml_file_name  = image_name[:-4]\n",
    "        xml_file_name = xml_file_name+'.xml'\n",
    "        tree = ET.parse(xml_file_name)\n",
    "        root = tree.getroot()\n",
    "        \n",
    "        #Generate binary mask for each cell-type                         \n",
    "        for k in range(len(root)):\n",
    "            label = [x.attrib['Name'] for x in root[k][0]]\n",
    "            label = label[0]\n",
    "            \n",
    "            for child in root[k]:\n",
    "                for x in child:\n",
    "                    r = x.tag\n",
    "                    if r == 'Attribute':\n",
    "                        count = count+1\n",
    "                        print(count)\n",
    "                        label = x.attrib['Name']\n",
    "                        binary_mask = np.transpose(np.zeros((img.read_region((0,0),0,img.level_dimensions[0]).size))) \n",
    "                        print(label)\n",
    "                        \n",
    "                        # Create directory for each label\n",
    "                        sub_path = sub_image+'/'+label\n",
    "                        \n",
    "                        try:\n",
    "                            os.mkdir(sub_path)\n",
    "                        except OSError:\n",
    "                            print (\"Creation of the directory %s failed\" % label)\n",
    "                        else:\n",
    "                            print (\"Successfully created the directory %s \" % label) \n",
    "                                          \n",
    "                        \n",
    "                    if r == 'Region':\n",
    "                        regions = []\n",
    "                        vertices = x[1]\n",
    "                        coords = np.zeros((len(vertices), 2))\n",
    "                        for i, vertex in enumerate(vertices):\n",
    "                            coords[i][0] = vertex.attrib['X']\n",
    "                            coords[i][1] = vertex.attrib['Y']        \n",
    "                        regions.append(coords)\n",
    "                        poly = Polygon(regions[0])  \n",
    "                        \n",
    "                        vertex_row_coords = regions[0][:,0]\n",
    "                        vertex_col_coords = regions[0][:,1]\n",
    "                        fill_row_coords, fill_col_coords = draw.polygon(vertex_col_coords, vertex_row_coords, binary_mask.shape)\n",
    "                        binary_mask[fill_row_coords, fill_col_coords] = 255\n",
    "                        mask_path = sub_path+'/'+str(count)+'_mask.tif'\n",
    "                        cv2.imwrite(mask_path, binary_mask)                       \n",
    "    "
   ]
  },
  {
   "cell_type": "code",
   "execution_count": null,
   "metadata": {
    "pycharm": {
     "name": "#%%\n"
    }
   },
   "outputs": [],
   "source": []
  }
 ],
 "metadata": {
  "kernelspec": {
   "display_name": "Python 3 (ipykernel)",
   "language": "python",
   "name": "python3"
  },
  "language_info": {
   "codemirror_mode": {
    "name": "ipython",
    "version": 3
   },
   "file_extension": ".py",
   "mimetype": "text/x-python",
   "name": "python",
   "nbconvert_exporter": "python",
   "pygments_lexer": "ipython3",
   "version": "3.10.2"
  }
 },
 "nbformat": 4,
 "nbformat_minor": 4
}