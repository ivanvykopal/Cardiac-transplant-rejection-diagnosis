{
 "cells": [
  {
   "cell_type": "code",
   "execution_count": null,
   "id": "a524cc6f-4b27-43a9-9679-4b649ca90fad",
   "metadata": {
    "pycharm": {
     "name": "#%%\n"
    }
   },
   "outputs": [],
   "source": [
    "import pandas as pd"
   ]
  },
  {
   "cell_type": "code",
   "execution_count": null,
   "id": "9bb30eda-578a-44af-9efd-b7a29d3f8ae8",
   "metadata": {
    "pycharm": {
     "name": "#%%\n"
    }
   },
   "outputs": [],
   "source": [
    "df_6_1 = pd.DataFrame([\n",
    "    {\n",
    "        'Trieda': 'Cievy',\n",
    "        'Počet': 648,\n",
    "        'Plocha [px]': 16_851_452\n",
    "    },\n",
    "    {\n",
    "        'Trieda': 'Endokard',\n",
    "        'Počet': 128,\n",
    "        'Plocha [px]': 61_270_896\n",
    "    },\n",
    "    {\n",
    "        'Trieda': 'Tukové tkanivo',\n",
    "        'Počet': 47,\n",
    "        'Plocha [px]': 22_660_865\n",
    "    },\n",
    "    {\n",
    "        'Trieda': 'Zápal',\n",
    "        'Počet': 596,\n",
    "        'Plocha [px]': 82_498_898\n",
    "    },\n",
    "    {\n",
    "        'Trieda': 'Quilty lézie',\n",
    "        'Počet': 5,\n",
    "        'Plocha [px]': 537_758\n",
    "    },\n",
    "    {\n",
    "        'Trieda': 'Fibrotické tkanivo',\n",
    "        'Počet': 1,\n",
    "        'Plocha [px]': 14_363\n",
    "    },\n",
    "])\n",
    "print(df_6_1.to_latex())"
   ]
  },
  {
   "cell_type": "code",
   "execution_count": null,
   "id": "e4388d99-f26c-401c-8c6c-ba7ac5f03f3e",
   "metadata": {
    "pycharm": {
     "name": "#%%\n"
    }
   },
   "outputs": [],
   "source": [
    "df_6_2 = pd.DataFrame([\n",
    "    {\n",
    "        'Model': 'U-Net',\n",
    "        'IoU [%]': 78.56,\n",
    "        'Dice [%]': 77.04,\n",
    "        'Presnosť [%]': 75.52,\n",
    "        'Pokrytie [%]': 84.61\n",
    "    },\n",
    "    {\n",
    "        'Model': 'U-Net++',\n",
    "        'IoU [%]': 79.10,\n",
    "        'Dice [%]': 76.56,\n",
    "        'Presnosť [%]': 75.74,\n",
    "        'Pokrytie [%]': 83.63\n",
    "    }\n",
    "])\n",
    "print(df_6_2.to_latex())"
   ]
  },
  {
   "cell_type": "code",
   "execution_count": null,
   "id": "2474dd69-06f5-470d-b0af-7dc5ed856a4c",
   "metadata": {
    "pycharm": {
     "name": "#%%\n"
    }
   },
   "outputs": [],
   "source": [
    "df_unet = pd.read_csv('results-unet.tsv', sep='\\t')\n",
    "df_nested = pd.read_csv('results-nested.tsv', sep='\\t')"
   ]
  },
  {
   "cell_type": "code",
   "execution_count": null,
   "id": "4650f492-f362-4e3f-be19-a3d714f869ac",
   "metadata": {
    "pycharm": {
     "name": "#%%\n"
    }
   },
   "outputs": [],
   "source": [
    "df_6_3 = pd.DataFrame([\n",
    "    {\n",
    "        'Model': 'U-Net',\n",
    "        'Priemerné IoU [%]': df_unet['IoU'].mean() * 100,\n",
    "        'Min IoU [%]': df_unet['IoU'].min() * 100,\n",
    "        'Max IoU [%]': df_unet['IoU'].max() * 100,\n",
    "        'Priemerný Dice [%]': df_unet['DICE'].mean() * 100,\n",
    "        'Min Dice [%]': df_unet['DICE'].min() * 100,\n",
    "        'Max Dice [%]': df_unet['DICE'].max() * 100,\n",
    "    },\n",
    "    {\n",
    "        'Model': 'U-Net++',\n",
    "        'Priemerné IoU [%]': df_nested['IoU'].mean() * 100,\n",
    "        'Min IoU [%]': df_nested['IoU'].min() * 100,\n",
    "        'Max IoU [%]': df_nested['IoU'].max() * 100,\n",
    "        'Priemerný Dice [%]': df_nested['DICE'].mean() * 100,\n",
    "        'Min Dice [%]': df_nested['DICE'].min() * 100,\n",
    "        'Max Dice [%]': df_nested['DICE'].max() * 100,\n",
    "    },\n",
    "])\n",
    "print(df_6_3.round(2).to_latex())"
   ]
  },
  {
   "cell_type": "code",
   "execution_count": null,
   "id": "0ca2b2a5-7c60-4b79-a8e7-2d9c37f4ff81",
   "metadata": {
    "pycharm": {
     "name": "#%%\n"
    }
   },
   "outputs": [],
   "source": [
    "df_unet"
   ]
  },
  {
   "cell_type": "code",
   "execution_count": null,
   "id": "44ac218b-f1cc-430a-9b95-765e53093dd1",
   "metadata": {
    "pycharm": {
     "name": "#%%\n"
    }
   },
   "outputs": [],
   "source": []
  }
 ],
 "metadata": {
  "kernelspec": {
   "display_name": "Python 3 (ipykernel)",
   "language": "python",
   "name": "python3"
  },
  "language_info": {
   "codemirror_mode": {
    "name": "ipython",
    "version": 3
   },
   "file_extension": ".py",
   "mimetype": "text/x-python",
   "name": "python",
   "nbconvert_exporter": "python",
   "pygments_lexer": "ipython3",
   "version": "3.10.2"
  }
 },
 "nbformat": 4,
 "nbformat_minor": 5
}