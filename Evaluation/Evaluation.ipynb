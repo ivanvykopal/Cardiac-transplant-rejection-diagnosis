{
 "cells": [
  {
   "cell_type": "markdown",
   "id": "781ce435-af13-4ff0-a3b7-583dd76787c3",
   "metadata": {},
   "source": [
    "# Evaluácia U-Net a U-Net++ pre segmentáciu jadier v rámci H&E snímok\n",
    "\n",
    "**Autor: Bc. Ivan Vykopal**"
   ]
  },
  {
   "cell_type": "code",
   "execution_count": null,
   "id": "6e489131-b9d4-478a-af76-2c5285d3ba9c",
   "metadata": {},
   "outputs": [],
   "source": [
    "import glob\n",
    "import cv2 as cv\n",
    "import numpy as np\n",
    "from tqdm import tqdm\n",
    "import pandas as pd"
   ]
  },
  {
   "cell_type": "code",
   "execution_count": null,
   "id": "097a022a-12a9-4eb0-a334-94f7ccb138e9",
   "metadata": {},
   "outputs": [],
   "source": [
    "def IoU(y_true, y_pred):\n",
    "    intersection = np.logical_and(y_true, y_pred)\n",
    "    union = np.logical_or(y_true, y_pred)\n",
    "    iou_score = np.sum(intersection) / np.sum(union)\n",
    "    return iou_score"
   ]
  },
  {
   "cell_type": "code",
   "execution_count": null,
   "id": "557a27aa-a999-4410-bdd0-2a88357d175b",
   "metadata": {},
   "outputs": [],
   "source": [
    "def dice_coef(y_true, y_pred):\n",
    "    intersect = np.sum(y_true * y_pred)\n",
    "    fsum = np.sum(y_true)\n",
    "    ssum = np.sum(y_pred)\n",
    "    dice = (2 * intersect ) / (fsum + ssum)\n",
    "    return dice"
   ]
  },
  {
   "cell_type": "code",
   "execution_count": null,
   "id": "6a297e75-3f6c-42a2-a820-cfadc4d8c7f8",
   "metadata": {},
   "outputs": [],
   "source": [
    "def evalutate_labels(qupath_dir, my_lables_dir):\n",
    "    qupath = glob.glob(qupath_dir + '\\\\*')\n",
    "    columns = {'name': [], 'IoU': [], 'DICE': []}\n",
    "    for path in tqdm(qupath, total=len(qupath)):\n",
    "        name = path.replace(qupath_dir, '').replace('\\\\','').replace('.png', '').replace('-cell', '')\n",
    "        qupath_mask = cv.imread(path)[:,:,0] // 255\n",
    "        my_mask = cv.imread(my_lables_dir + '\\\\' + name + '.png')[:,:,0] // 255\n",
    "        \n",
    "        dice = dice_coef(qupath_mask, my_mask)\n",
    "        iou = IoU(qupath_mask, my_mask)\n",
    "        columns['name'].append(name)\n",
    "        columns['IoU'].append(iou)\n",
    "        columns['DICE'].append(dice)\n",
    "    \n",
    "    df = pd.DataFrame(data=columns)\n",
    "    return df"
   ]
  },
  {
   "cell_type": "code",
   "execution_count": null,
   "id": "43bc8b39-92ea-464f-898f-e241c5799478",
   "metadata": {},
   "outputs": [],
   "source": [
    "qupath_dir = 'C:\\\\Users\\\\ivanv\\\\Desktop\\\\Ivan\\\\FIIT\\\\02_ING\\\\Master thesis\\\\Code\\\\GeoJSON\\\\images'"
   ]
  },
  {
   "cell_type": "markdown",
   "id": "eb888273-5e19-43a1-adf3-35accb722369",
   "metadata": {},
   "source": [
    "## U-Net"
   ]
  },
  {
   "cell_type": "code",
   "execution_count": null,
   "id": "01d36f6a-8438-4090-8b89-02d75159f070",
   "metadata": {},
   "outputs": [],
   "source": [
    "my_lables_dir = 'C:\\\\Users\\\\ivanv\\\\Desktop\\\\Ivan\\\\FIIT\\\\02_ING\\\\Master thesis\\\\Code\\\\U-Net experiments\\\\labels - unet'\n",
    "\n",
    "df = evalutate_labels(qupath_dir, my_lables_dir)\n",
    "df.to_csv('results-unet.tsv', sep=\"\\t\", index=False)"
   ]
  },
  {
   "cell_type": "code",
   "execution_count": null,
   "id": "e5927722-b992-409c-af5f-f924b3246bb3",
   "metadata": {},
   "outputs": [],
   "source": [
    "df.describe()"
   ]
  },
  {
   "cell_type": "code",
   "execution_count": null,
   "id": "56e55450-8137-48f4-88f8-1ad70432cac8",
   "metadata": {},
   "outputs": [],
   "source": [
    "df.head(25)"
   ]
  },
  {
   "cell_type": "markdown",
   "id": "2c7b0854-ef25-4fdc-bc85-1a23b795a438",
   "metadata": {},
   "source": [
    "## U-Net++"
   ]
  },
  {
   "cell_type": "code",
   "execution_count": null,
   "id": "3e326c85-a9b4-4764-afb1-ab596c2ff4e4",
   "metadata": {},
   "outputs": [],
   "source": [
    "my_lables_dir = 'C:\\\\Users\\\\ivanv\\\\Desktop\\\\Ivan\\\\FIIT\\\\02_ING\\\\Master thesis\\\\Code\\\\U-Net experiments\\\\labels - nested'\n",
    "\n",
    "df = evalutate_labels(qupath_dir, my_lables_dir)\n",
    "df.to_csv('results-unet.tsv', sep=\"\\t\", index=False)"
   ]
  },
  {
   "cell_type": "code",
   "execution_count": null,
   "id": "179f5010-d1c2-4dfc-ae7b-16dc7e1c2594",
   "metadata": {},
   "outputs": [],
   "source": [
    "df.describe()"
   ]
  },
  {
   "cell_type": "code",
   "execution_count": null,
   "id": "9d445e93-1274-43d7-ae1d-4384b61c4bcd",
   "metadata": {},
   "outputs": [],
   "source": [
    "df.head(25)"
   ]
  }
 ],
 "metadata": {
  "kernelspec": {
   "display_name": "Python 3 (ipykernel)",
   "language": "python",
   "name": "python3"
  },
  "language_info": {
   "codemirror_mode": {
    "name": "ipython",
    "version": 3
   },
   "file_extension": ".py",
   "mimetype": "text/x-python",
   "name": "python",
   "nbconvert_exporter": "python",
   "pygments_lexer": "ipython3",
   "version": "3.10.2"
  }
 },
 "nbformat": 4,
 "nbformat_minor": 5
}
