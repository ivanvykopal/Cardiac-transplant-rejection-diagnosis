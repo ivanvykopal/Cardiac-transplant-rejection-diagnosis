{
 "cells": [
  {
   "attachments": {},
   "cell_type": "markdown",
   "id": "22392e71-b9ec-4f8e-bdb5-15056c865938",
   "metadata": {
    "pycharm": {
     "name": "#%%\n"
    }
   },
   "source": [
    "# Experiment zhlukovania so všetkými bunkami\n",
    "\n",
    "**Autor: Bc. Ivan Vykopal**\n",
    "\n",
    "Pri tomto experimente využívame všetky bunky bez rozdielu klasifikácie."
   ]
  },
  {
   "cell_type": "code",
   "execution_count": null,
   "id": "d39f7269-57ff-423e-a017-b191004a84a6",
   "metadata": {},
   "outputs": [],
   "source": [
    "import numpy as np\n",
    "import cv2 as cv\n",
    "import matplotlib.pyplot as plt\n",
    "import glob\n",
    "import numpy as np\n",
    "from sklearn.cluster import DBSCAN\n",
    "import geojson\n",
    "from shapely.geometry import shape\n",
    "import os"
   ]
  },
  {
   "cell_type": "code",
   "execution_count": null,
   "id": "d86d4769-6370-4ec8-997a-bd3380a052f6",
   "metadata": {
    "pycharm": {
     "name": "#%%\n"
    }
   },
   "outputs": [],
   "source": [
    "def display_sample(display_list):\n",
    "    plt.figure(figsize=(18, 18))\n",
    "\n",
    "    for i in range(len(display_list)):\n",
    "        plt.subplot(1, len(display_list), i+1)\n",
    "        plt.imshow(display_list[i])\n",
    "        plt.axis('off')\n",
    "    plt.show()"
   ]
  },
  {
   "cell_type": "code",
   "execution_count": null,
   "id": "ff74436f-2ffb-4548-9818-fcf89f44fa6e",
   "metadata": {
    "pycharm": {
     "name": "#%%\n"
    }
   },
   "outputs": [],
   "source": [
    "img_directory = 'D:/Master Thesis/ANN Imunne cells/'\n",
    "geojson_directory = 'D:/Master Thesis/Data/EMB-IKEM-2022-03-09/QuPath project EMB - anotations/annotations/' # upraviť\n",
    "#out_dir = 'D:/Master Thesis/Code/Clustering/result2/' #upraviť\n",
    "out_dir = r'C:\\Users\\ivanv\\Desktop\\Final tests/'\n",
    "geojson_suf = '.vsi - 20x.geojson'"
   ]
  },
  {
   "cell_type": "code",
   "execution_count": null,
   "id": "f95ef918-adfb-4037-8bd1-771d6a228c64",
   "metadata": {
    "pycharm": {
     "name": "#%%\n"
    }
   },
   "outputs": [],
   "source": [
    "def dilate(mask, original_mask):\n",
    "    dilated = mask\n",
    "    nuclei, hierarchy = cv.findContours(dilated, cv.RETR_EXTERNAL, cv.CHAIN_APPROX_SIMPLE)\n",
    "    num_dilatations = 0\n",
    "\n",
    "    while len(nuclei) != 1:\n",
    "        dilated = cv.dilate(dilated, cv.getStructuringElement(cv.MORPH_ELLIPSE, (10, 10)))\n",
    "        nuclei, hierarchy = cv.findContours(dilated, cv.RETR_EXTERNAL, cv.CHAIN_APPROX_SIMPLE)\n",
    "        num_dilatations += 1\n",
    "\n",
    "    while num_dilatations:\n",
    "        dilated = cv.erode(dilated, cv.getStructuringElement(cv.MORPH_ELLIPSE, (10, 10)))\n",
    "        num_dilatations -= 1\n",
    "\n",
    "    contours, hierarchy = cv.findContours(dilated, cv.RETR_EXTERNAL, cv.CHAIN_APPROX_SIMPLE)\n",
    "    cv.drawContours(original_mask, contours, -1, (0, 255, 0), 3)\n",
    "    return original_mask"
   ]
  },
  {
   "cell_type": "code",
   "execution_count": null,
   "id": "31325192-d6e9-42ce-98c1-2f80820f63a3",
   "metadata": {
    "pycharm": {
     "name": "#%%\n"
    }
   },
   "outputs": [],
   "source": [
    "def get_nucleus_info(feature):\n",
    "    attributes = [\"Nucleus: Hematoxylin OD mean\", \"Nucleus: Hematoxylin OD sum\", \"Nucleus: Hematoxylin OD std dev\", \"Nucleus: Hematoxylin OD max\", \"Nucleus: Hematoxylin OD min\", \"Nucleus: Eosin OD mean\", \"Nucleus: Eosin OD sum\", \"Nucleus: Eosin OD std dev\", \"Nucleus: Eosin OD max\", \"Nucleus: Eosin OD min\", \"Nucleus: Eosin OD range\"]\n",
    "    info = list()\n",
    "    \n",
    "    try:\n",
    "        for measurement in feature['properties']['measurements']:\n",
    "            if measurement['name'] in attributes:\n",
    "                info.append(measurement['value'])\n",
    "    except:\n",
    "        print(feature)\n",
    "        \n",
    "    return info"
   ]
  },
  {
   "cell_type": "code",
   "execution_count": null,
   "id": "ac6f6470-9969-4b35-ba42-d6aa9acdccdc",
   "metadata": {
    "pycharm": {
     "name": "#%%\n"
    }
   },
   "outputs": [],
   "source": [
    "# Original: eps=100, min_samples=15\n",
    "# Experiment 2: eps=100, min_samples=20\n",
    "def get_inflammatory(image_dir, image_name, geojson_path, output_dir, eps=100, min_samples=20):\n",
    "    image = cv.imread(f\"{image_dir}{image_name}.png\")\n",
    "    with open(geojson_path) as f:\n",
    "        gj = geojson.load(f)\n",
    "        \n",
    "    features = gj['features'][1:]\n",
    "    centroids = list()\n",
    "    polygons = dict()\n",
    "    \n",
    "    index = 0\n",
    "    for feature in features:\n",
    "        if feature['properties']['classification']['name'] != 'Region*':\n",
    "            s = shape(feature['geometry'])\n",
    "            polygons[index] = s\n",
    "            #other_features = get_nucleus_info(feature)\n",
    "            centroids.append([s.centroid.x, s.centroid.y])#, *other_features])\n",
    "            index += 1\n",
    "    \n",
    "    X = np.array(centroids)\n",
    "    db = DBSCAN(eps=eps, min_samples=min_samples).fit(X)\n",
    "    unique = np.unique(db.labels_)\n",
    "            \n",
    "    canvas = np.zeros((image.shape[0], image.shape[1]), dtype=np.uint8)\n",
    "    for unique_idx, unique_value in enumerate(unique[1:]):\n",
    "        indexes = np.where(db.labels_ == unique_value)[0]\n",
    "        mask = np.zeros((image.shape[0], image.shape[1]), dtype=np.uint8)\n",
    "\n",
    "        for idx in indexes:\n",
    "            coors = list(zip(*polygons[idx].exterior.coords.xy))\n",
    "            pts = [[round(c[0]), round(c[1])] for c in coors]\n",
    "            cv.fillPoly(mask, [np.array(pts)], 1)\n",
    "            cv.fillPoly(canvas, [np.array(pts)], unique_idx + 1)\n",
    "\n",
    "        image = dilate(mask, image)\n",
    "    cv.imwrite(f\"{output_dir}{file_name}.png\", image)"
   ]
  },
  {
   "cell_type": "code",
   "execution_count": null,
   "id": "73bfb4d5-808b-4c0d-9b27-aff24daa9ff3",
   "metadata": {
    "pycharm": {
     "name": "#%%\n"
    }
   },
   "outputs": [],
   "source": [
    "files = glob.glob(f\"{geojson_directory}*\")\n",
    "\n",
    "for file in files:\n",
    "    file_name = file.replace('\\\\', '/').replace(geojson_directory, '').replace(geojson_suf, '')\n",
    "    print(f'Analyzing {file_name}!')\n",
    "    if os.path.exists(f\"{img_directory}{file_name}.png\"):\n",
    "        image = get_inflammatory(img_directory, file_name, file, out_dir)\n",
    "    break"
   ]
  }
 ],
 "metadata": {
  "kernelspec": {
   "display_name": "Python 3 (ipykernel)",
   "language": "python",
   "name": "python3"
  },
  "language_info": {
   "codemirror_mode": {
    "name": "ipython",
    "version": 3
   },
   "file_extension": ".py",
   "mimetype": "text/x-python",
   "name": "python",
   "nbconvert_exporter": "python",
   "pygments_lexer": "ipython3",
   "version": "3.10.2"
  }
 },
 "nbformat": 4,
 "nbformat_minor": 5
}
