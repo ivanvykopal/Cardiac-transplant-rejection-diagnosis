{
 "cells": [
  {
   "attachments": {},
   "cell_type": "markdown",
   "id": "21505159-a89f-476d-9758-0375e2cf5ab8",
   "metadata": {
    "pycharm": {
     "name": "#%%\n"
    }
   },
   "source": [
    "# Vyhodnotenie zhlukovania a iterovanej dilatácie\n",
    "\n",
    "**Autor: Bc. Ivan Vykopal**\n",
    "\n",
    "Pre vyhodnotenie týchto experimentov je potrebné upraviť cesty k skutočným anotáciám od lekárov a k vykonaným predikciám na základe zhlukovania a iterovanej dilatácie."
   ]
  },
  {
   "cell_type": "code",
   "execution_count": null,
   "id": "e0e03d96-48e4-4620-a59e-4e8f52d0245e",
   "metadata": {},
   "outputs": [],
   "source": [
    "import cv2 as cv\n",
    "import matplotlib as plt\n",
    "import numpy as np\n",
    "from shapely.geometry import shape\n",
    "import glob\n",
    "import geojson\n",
    "import pandas as pd\n",
    "import os"
   ]
  },
  {
   "cell_type": "code",
   "execution_count": null,
   "id": "d0bf993c-966c-4ce4-8b91-acff31ead857",
   "metadata": {
    "pycharm": {
     "name": "#%%\n"
    }
   },
   "outputs": [],
   "source": [
    "original_dir = 'D:/Master Thesis/Data/21.06. 2022 annotations/' # path to geojsons from doctors with annotations\n",
    "predicted_dir = 'D:/Master Thesis/Code/Clustering/result2/' # path to generated geojsons\n",
    "image_dir = 'D:/Master Thesis/ANN Imunne cells/' # path to full_size images\n",
    "original_suffix = '.vsi - 20x_annotations.geojson' # suffix for annotations from doctors\n",
    "predicted_suffix = '.geojson'\n",
    "\n",
    "csv_name = 'clustering-all-cells4' # name of csv to save"
   ]
  },
  {
   "cell_type": "code",
   "execution_count": null,
   "id": "b5f1cf71-c982-443b-93a9-a5f5884d9629",
   "metadata": {
    "pycharm": {
     "name": "#%%\n"
    }
   },
   "outputs": [],
   "source": [
    "def get_mask(img, annotations):\n",
    "    x, y = int(img.shape[0]), int(img.shape[1])\n",
    "\n",
    "    mask = np.zeros((x, y), dtype='uint8')\n",
    "    for feat in annotations:\n",
    "        classification = feat['properties'].get('classification')\n",
    "        if classification and classification['name'] == 'Inflammation':\n",
    "            for coors in feat['geometry']['coordinates']:\n",
    "                if feat['geometry']['type'] == 'MultiPolygon':\n",
    "                    coors = coors[0]\n",
    "                pts = [[round(c[0]), round(c[1])] for c in coors]\n",
    "                cv.fillPoly(mask, [np.array(pts)], 1)  # fill with ones if cell present\n",
    "\n",
    "    return mask"
   ]
  },
  {
   "cell_type": "code",
   "execution_count": null,
   "id": "69238576-4883-49c4-96d3-ece1fff826cd",
   "metadata": {
    "pycharm": {
     "name": "#%%\n"
    }
   },
   "outputs": [],
   "source": [
    "def evaluate(original_mask, predicted_mask):\n",
    "    overlap = original_mask * predicted_mask\n",
    "    union = original_mask + predicted_mask\n",
    "    union = np.clip(union, 0, 1)\n",
    "    \n",
    "    if overlap.sum() == 0 and union.sum() == 0:\n",
    "        return 1, 1\n",
    "    \n",
    "    IOU = overlap.sum() / float(union.sum())\n",
    "    \n",
    "    dice = 2 * (overlap.sum()) / (union.sum() + overlap.sum())\n",
    "    \n",
    "    return IOU, dice"
   ]
  },
  {
   "cell_type": "code",
   "execution_count": null,
   "id": "e66b0f4f-0565-4c21-834b-f8c2c99e9a0f",
   "metadata": {
    "pycharm": {
     "name": "#%%\n"
    }
   },
   "outputs": [],
   "source": [
    "files = glob.glob(f\"{original_dir}*\")\n",
    "\n",
    "dataframe = pd.DataFrame()\n",
    "\n",
    "for file in files:\n",
    "    file_name = file.replace('\\\\', '/').replace(original_dir, '').replace(original_suffix, '')\n",
    "    if os.path.exists(f\"{image_dir}{file_name}.png\"):\n",
    "        image = cv.imread(f\"{image_dir}{file_name}.png\")\n",
    "\n",
    "        original_geojson = geojson.load(open(file))\n",
    "        predicted_geojson = geojson.load(open(f\"{predicted_dir}{file_name}{predicted_suffix}\"))\n",
    "        original_mask = get_mask(image, original_geojson['features'])\n",
    "        predicted_mask = get_mask(image, predicted_geojson['features'])\n",
    "        IoU, dice = evaluate(original_mask, predicted_mask)\n",
    "        \n",
    "        dataframe = pd.concat([\n",
    "                dataframe,\n",
    "                pd.DataFrame([{\n",
    "                    'file_name': file_name,\n",
    "                    'IoU': IoU,\n",
    "                    'Dice': dice\n",
    "                }]).set_index('file_name')\n",
    "            ])\n",
    "    "
   ]
  },
  {
   "cell_type": "code",
   "execution_count": null,
   "id": "2301adf8-ea60-468d-beae-5d0ced10798b",
   "metadata": {
    "pycharm": {
     "name": "#%%\n"
    }
   },
   "outputs": [],
   "source": [
    "dataframe"
   ]
  },
  {
   "cell_type": "code",
   "execution_count": null,
   "id": "5a107924-7749-47f6-ae4c-bad5c90a95a3",
   "metadata": {
    "pycharm": {
     "name": "#%%\n"
    }
   },
   "outputs": [],
   "source": [
    "dataframe.to_csv(f'{csv_name}.csv')"
   ]
  },
  {
   "cell_type": "code",
   "execution_count": null,
   "id": "80a603ba-8a71-44a9-97cc-4b99dcdc9a55",
   "metadata": {
    "pycharm": {
     "name": "#%%\n"
    }
   },
   "outputs": [],
   "source": []
  }
 ],
 "metadata": {
  "kernelspec": {
   "display_name": "Python 3 (ipykernel)",
   "language": "python",
   "name": "python3"
  },
  "language_info": {
   "codemirror_mode": {
    "name": "ipython",
    "version": 3
   },
   "file_extension": ".py",
   "mimetype": "text/x-python",
   "name": "python",
   "nbconvert_exporter": "python",
   "pygments_lexer": "ipython3",
   "version": "3.10.2"
  }
 },
 "nbformat": 4,
 "nbformat_minor": 5
}
