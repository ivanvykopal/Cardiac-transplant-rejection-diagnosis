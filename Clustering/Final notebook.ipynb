{
 "cells": [
  {
   "cell_type": "markdown",
   "id": "efdf8688-a875-460d-b099-98145d320a93",
   "metadata": {
    "pycharm": {
     "name": "#%%\n"
    }
   },
   "source": [
    "# Finálna implementácia zhlukovania a iterovanej dilatácie\n",
    "\n",
    "**Autor: Bc. Ivan Vykopal**\n",
    "\n",
    "Finálny notebook obsahujúci zhlukovanie na základe hustoty, iterovanú dilatáciu a aj výslednú konverziu snímok do formy GeoJSON súborov."
   ]
  },
  {
   "cell_type": "code",
   "execution_count": null,
   "id": "7c826432-b9e3-4ed3-abba-7deb88a1fcaf",
   "metadata": {},
   "outputs": [],
   "source": [
    "import numpy as np\n",
    "import cv2 as cv\n",
    "import matplotlib.pyplot as plt\n",
    "import glob\n",
    "import numpy as np\n",
    "from sklearn.cluster import DBSCAN\n",
    "import geojson\n",
    "from shapely.geometry import shape\n",
    "import os\n",
    "from geojson import Polygon, FeatureCollection, Feature, dump"
   ]
  },
  {
   "cell_type": "code",
   "execution_count": null,
   "id": "b97e284b-f5e7-454e-87d9-fca42bcf5c0b",
   "metadata": {},
   "outputs": [],
   "source": [
    "img_directory = 'D:/Master Thesis/ANN Imunne cells/'\n",
    "geojson_directory = 'D:/Master Thesis/Data/EMB-IKEM-2022-03-09/QuPath project EMB - anotations/annotations/'\n",
    "out_dir = 'D:/Master Thesis/Code/Clustering/result2/' #cesta k uloženým maskám\n",
    "geojson_suf = '.vsi - 20x.geojson'\n",
    "\n",
    "out_dir_dilatation ='D:/Master Thesis/Code/Iterative dilation/result/'"
   ]
  },
  {
   "cell_type": "code",
   "execution_count": null,
   "id": "dc53a509-988a-4c47-8e18-885d173bb162",
   "metadata": {
    "pycharm": {
     "name": "#%%\n"
    }
   },
   "outputs": [],
   "source": [
    "def display_sample(display_list):\n",
    "    plt.figure(figsize=(18, 18))\n",
    "\n",
    "    for i in range(len(display_list)):\n",
    "        plt.subplot(1, len(display_list), i+1)\n",
    "        plt.imshow(display_list[i])\n",
    "        plt.axis('off')\n",
    "    plt.show()"
   ]
  },
  {
   "cell_type": "code",
   "execution_count": null,
   "id": "f40ea98e-4844-4960-80f8-816ab639718f",
   "metadata": {
    "pycharm": {
     "name": "#%%\n"
    }
   },
   "outputs": [],
   "source": [
    "def dilate(mask, original_mask):\n",
    "    dilated = mask\n",
    "    nuclei, hierarchy = cv.findContours(dilated, cv.RETR_EXTERNAL, cv.CHAIN_APPROX_SIMPLE)\n",
    "    num_dilatations = 0\n",
    "\n",
    "    while len(nuclei) != 1:\n",
    "        dilated = cv.dilate(dilated, cv.getStructuringElement(cv.MORPH_ELLIPSE, (10, 10)))\n",
    "        nuclei, hierarchy = cv.findContours(dilated, cv.RETR_EXTERNAL, cv.CHAIN_APPROX_SIMPLE)\n",
    "        num_dilatations += 1\n",
    "\n",
    "    contours, hierarchy = cv.findContours(dilated, cv.RETR_EXTERNAL, cv.CHAIN_APPROX_SIMPLE)\n",
    "    cv.drawContours(original_mask, contours, -1, (255, 255, 255), 3)\n",
    "    return original_mask"
   ]
  },
  {
   "cell_type": "code",
   "execution_count": null,
   "id": "1882e18a-b717-48ec-8913-eebc9148ee18",
   "metadata": {
    "pycharm": {
     "name": "#%%\n"
    }
   },
   "outputs": [],
   "source": [
    "def get_nucleus_info(feature):\n",
    "    attributes = [\"Nucleus: Hematoxylin OD mean\", \"Nucleus: Hematoxylin OD sum\", \"Nucleus: Hematoxylin OD std dev\", \"Nucleus: Hematoxylin OD max\", \"Nucleus: Hematoxylin OD min\", \"Nucleus: Eosin OD mean\", \"Nucleus: Eosin OD sum\", \"Nucleus: Eosin OD std dev\", \"Nucleus: Eosin OD max\", \"Nucleus: Eosin OD min\", \"Nucleus: Eosin OD range\"]\n",
    "    info = list()\n",
    "    \n",
    "    try:\n",
    "        for measurement in feature['properties']['measurements']:\n",
    "            if measurement['name'] in attributes:\n",
    "                info.append(measurement['value'])\n",
    "    except:\n",
    "        print(feature)\n",
    "        \n",
    "    return info"
   ]
  },
  {
   "cell_type": "code",
   "execution_count": null,
   "id": "365fbdea-ae07-4603-88f7-8598f0d7dd4a",
   "metadata": {
    "pycharm": {
     "name": "#%%\n"
    }
   },
   "outputs": [],
   "source": [
    "def get_area(contours):\n",
    "    area = 0\n",
    "    for contour in contours:\n",
    "        area += cv.contourArea(contour)\n",
    "        \n",
    "    return area"
   ]
  },
  {
   "cell_type": "code",
   "execution_count": null,
   "id": "44957206-749e-42f0-855c-a42bcd8962a2",
   "metadata": {
    "pycharm": {
     "name": "#%%\n"
    }
   },
   "outputs": [],
   "source": [
    "def iterative_dilation(image, threshold):\n",
    "    gray = cv.cvtColor(image, cv.COLOR_BGR2GRAY)\n",
    "    nuclei, hierarchy = cv.findContours(gray, cv.RETR_EXTERNAL, cv.CHAIN_APPROX_SIMPLE)\n",
    "    \n",
    "    area = get_area(nuclei)\n",
    "    nuclei_count_all = len(nuclei)\n",
    "    nuclei_count = nuclei_count_all\n",
    "    nuclei_count_diff = nuclei_count_all\n",
    "    \n",
    "    dilated = gray\n",
    "    while nuclei_count_diff > nuclei_count_all * threshold:\n",
    "        dilated = cv.dilate(dilated, cv.getStructuringElement(cv.MORPH_ELLIPSE, (7, 7)))\n",
    "        contours, hierarchy = cv.findContours(dilated, cv.RETR_EXTERNAL, cv.CHAIN_APPROX_SIMPLE)\n",
    "        nuclei_count_diff = nuclei_count - len(contours)\n",
    "        nuclei_count = len(contours)\n",
    "    \n",
    "    return dilated, area, nuclei_count_all"
   ]
  },
  {
   "cell_type": "code",
   "execution_count": null,
   "id": "2da50cdd-6f74-4815-bcae-3bb1d890916b",
   "metadata": {
    "pycharm": {
     "name": "#%%\n"
    }
   },
   "outputs": [],
   "source": [
    "def pretize_text(annotation_type):\n",
    "    if annotation_type == 'blood_vessels':\n",
    "        return 'Blood vessels'\n",
    "    elif annotation_type == 'fatty_tissues':\n",
    "        return 'Fatty tissue'\n",
    "    elif annotation_type == 'inflammations':\n",
    "        return 'Inflammation'\n",
    "    elif annotation_type == 'endocariums':\n",
    "        return 'Endocarium'\n",
    "    elif annotation_type == 'fibrotic_tissues':\n",
    "        return 'Fibrotic tissue'\n",
    "    elif annotation_type == 'quilities':\n",
    "        return 'Quilty'\n",
    "    elif annotation_type == 'immune_cells':\n",
    "        return 'Immune cells'\n",
    "    else:\n",
    "        annotation_type = annotation_type.replace('_', ' ')\n",
    "        return annotation_type.replace(annotation_type[0], annotation_type[0].upper(), 1)"
   ]
  },
  {
   "cell_type": "code",
   "execution_count": null,
   "id": "857a2c0b-a187-4586-a957-c1c0d9b4e2c8",
   "metadata": {
    "pycharm": {
     "name": "#%%\n"
    }
   },
   "outputs": [],
   "source": [
    "def get_coors(contour):\n",
    "    coors = []\n",
    "    for idx in range(len(contour)):\n",
    "        coors.append(contour[idx, 0].tolist())\n",
    "\n",
    "    return coors"
   ]
  },
  {
   "cell_type": "code",
   "execution_count": null,
   "id": "2d94214e-a3d2-4a16-b2d0-3a6cd6d53125",
   "metadata": {
    "pycharm": {
     "name": "#%%\n"
    }
   },
   "outputs": [],
   "source": [
    "def fix_polygon(contour):\n",
    "    return np.concatenate((contour, [contour[0]]))"
   ]
  },
  {
   "cell_type": "code",
   "execution_count": null,
   "id": "6fcb9f55-ea4b-4b7c-a9fd-dc11d369504b",
   "metadata": {
    "pycharm": {
     "name": "#%%\n"
    }
   },
   "outputs": [],
   "source": [
    "def create_properties_template(annotation):\n",
    "    return {\n",
    "        \"object_type\": \"annotation\",\n",
    "        \"classification\": {\n",
    "            \"name\": pretize_text(annotation)\n",
    "        },\n",
    "    }"
   ]
  },
  {
   "cell_type": "code",
   "execution_count": null,
   "id": "da60fa75-f02d-4dbe-adaf-3beab51bd1c1",
   "metadata": {
    "pycharm": {
     "name": "#%%\n"
    }
   },
   "outputs": [],
   "source": [
    "def get_features(contours, annotation):\n",
    "    features = []\n",
    "    for contour in contours:\n",
    "        contour = fix_polygon(contour)\n",
    "        coors = get_coors(contour)\n",
    "\n",
    "        features.append(Feature(\n",
    "            geometry=Polygon([coors]),\n",
    "            properties=create_properties_template(annotation)\n",
    "        ))\n",
    "\n",
    "    return features"
   ]
  },
  {
   "cell_type": "code",
   "execution_count": null,
   "id": "74dbd084-353b-48e2-9223-8f547d22aa73",
   "metadata": {
    "pycharm": {
     "name": "#%%\n"
    }
   },
   "outputs": [],
   "source": [
    "def create_geojson(mask, annotation_classes=None):\n",
    "    if annotation_classes is None:\n",
    "        annotation_classes = [\n",
    "            'blood_vessels',\n",
    "            'endocariums',\n",
    "            'fatty_tissues',\n",
    "            'fibrotic_tissues',\n",
    "            'immune_cells',\n",
    "            'inflammations',\n",
    "            'quilties'\n",
    "        ]\n",
    "\n",
    "    mask = np.uint8(mask)\n",
    "\n",
    "    features = []\n",
    "    if len(mask.shape) == 3:\n",
    "        _, _, classes = mask.shape\n",
    "        assert classes == len(annotation_classes)\n",
    "\n",
    "        for c in range(classes):\n",
    "            contours, hierarchy = cv.findContours(mask[:, :, c], cv.RETR_EXTERNAL, cv.CHAIN_APPROX_NONE)\n",
    "\n",
    "            features.extend(*get_features(contours, annotation_classes[c]))\n",
    "\n",
    "        return FeatureCollection(features)\n",
    "    else:\n",
    "        assert len(annotation_classes) == 1\n",
    "\n",
    "        contours, hierarchy = cv.findContours(mask, cv.RETR_EXTERNAL, cv.CHAIN_APPROX_NONE)\n",
    "        features = get_features(contours, annotation_classes[0])\n",
    "\n",
    "        return FeatureCollection(features)"
   ]
  },
  {
   "cell_type": "markdown",
   "id": "14ba0bf2-89fb-4fc9-a71a-ab43b06d7a94",
   "metadata": {
    "pycharm": {
     "name": "#%% md\n"
    }
   },
   "source": [
    "## Identifikácia zápalov s využitím zhlukovania založeného na hustote"
   ]
  },
  {
   "cell_type": "code",
   "execution_count": null,
   "id": "1184eccc-d0e3-4de0-bf02-a8863944664a",
   "metadata": {
    "pycharm": {
     "name": "#%%\n"
    }
   },
   "outputs": [],
   "source": [
    "def get_inflammatory_clustering(image_dir, image_name, geojson_path, output_dir, eps=100, min_samples=20, save=False):\n",
    "    image = cv.imread(f\"{image_dir}{image_name}.png\")\n",
    "    image = np.zeros((image.shape[0], image.shape[1]))\n",
    "    \n",
    "    with open(geojson_path) as f:\n",
    "        gj = geojson.load(f)\n",
    "        \n",
    "    features = gj['features'][1:]\n",
    "    centroids = list()\n",
    "    polygons = dict()\n",
    "    \n",
    "    index = 0\n",
    "    for feature in features:\n",
    "        if feature['properties']['classification']['name'] != 'Region*':\n",
    "            s = shape(feature['geometry'])\n",
    "            polygons[index] = s\n",
    "            centroids.append([s.centroid.x, s.centroid.y])\n",
    "            index += 1\n",
    "    \n",
    "    X = np.array(centroids)\n",
    "    db = DBSCAN(eps=eps, min_samples=min_samples).fit(X)\n",
    "    unique = np.unique(db.labels_)\n",
    "            \n",
    "    for unique_idx, unique_value in enumerate(unique[1:]):\n",
    "        indexes = np.where(db.labels_ == unique_value)[0]\n",
    "        mask = np.zeros((image.shape[0], image.shape[1]), dtype=np.uint8)\n",
    "\n",
    "        for idx in indexes:\n",
    "            coors = list(zip(*polygons[idx].exterior.coords.xy))\n",
    "            pts = [[round(c[0]), round(c[1])] for c in coors]\n",
    "            cv.fillPoly(mask, [np.array(pts)], 1)\n",
    "\n",
    "        image = dilate(mask, image)\n",
    "        \n",
    "    if save:\n",
    "        cv.imwrite(f\"{output_dir}{file_name}.png\", image)\n",
    "        \n",
    "    return image"
   ]
  },
  {
   "cell_type": "code",
   "execution_count": null,
   "id": "17a64594-c7be-4012-9caa-da90398830c9",
   "metadata": {
    "pycharm": {
     "name": "#%%\n"
    }
   },
   "outputs": [],
   "source": [
    "files = glob.glob(f\"{geojson_directory}*\")\n",
    "\n",
    "for file in files:\n",
    "    file_name = file.replace('\\\\', '/').replace(geojson_directory, '').replace(geojson_suf, '')\n",
    "    print(file_name)\n",
    "    if os.path.exists(f\"{img_directory}{file_name}.png\"):\n",
    "        image = get_inflammatory_clustering(img_directory, file_name, file, out_dir, save=True)"
   ]
  },
  {
   "cell_type": "markdown",
   "id": "7583c6b1-4152-4039-abe3-0bf619264c21",
   "metadata": {
    "pycharm": {
     "name": "#%% md\n"
    }
   },
   "source": [
    "## Identifikácia založená na iteratívnej dilatácii"
   ]
  },
  {
   "cell_type": "code",
   "execution_count": null,
   "id": "d9b33d0b-4307-44c0-b96c-15f1a628a540",
   "metadata": {
    "pycharm": {
     "name": "#%%\n"
    }
   },
   "outputs": [],
   "source": [
    "def get_inflammatory_dilation(image_dir, image_name, output_dir, threshold=0.01, nuclei_threshold=15, save=False):\n",
    "    image = cv.imread(f\"{image_dir}{image_name}.png\")\n",
    "    dilated, area, nuclei_count = iterative_dilation(image, 0.025)\n",
    "    \n",
    "    contours, hierarchy = cv.findContours(dilated, cv.RETR_EXTERNAL, cv.CHAIN_APPROX_SIMPLE)\n",
    "    \n",
    "    contour_threshold = list()\n",
    "    avg_nucleus_area = area / nuclei_count\n",
    "\n",
    "    for contour in contours:\n",
    "        cnt_area = cv.contourArea(contour)\n",
    "\n",
    "        if cnt_area > area * threshold:\n",
    "            (x, y, w, h) = cv.boundingRect(contour)\n",
    "            nuclei, hierarchy = cv.findContours(image[y:y + h,x:x + w, 0], cv.RETR_EXTERNAL, cv.CHAIN_APPROX_SIMPLE)\n",
    "\n",
    "            if len(nuclei) > nuclei_threshold: #15000\n",
    "                contour_threshold.append(contour)\n",
    "    \n",
    "    new_image = cv.drawContours(image, contour_threshold, -1, (255, 255, 255), 3)\n",
    "    \n",
    "    if save:\n",
    "        cv.imwrite(f\"{output_dir}{file_name}.png\", new_image)\n",
    "    \n",
    "    return new_image"
   ]
  },
  {
   "cell_type": "code",
   "execution_count": null,
   "id": "aa549c49-3c14-4113-b92b-b5d8bbbcf325",
   "metadata": {
    "pycharm": {
     "name": "#%%\n"
    }
   },
   "outputs": [],
   "source": [
    "files = glob.glob(f\"{img_directory}*\")\n",
    "\n",
    "for file in files:\n",
    "    file_name = file.replace('\\\\', '/').replace(directory, '').replace('.png', '')\n",
    "    print(file_name)\n",
    "    get_inflammatory_dilation(directory, file_name, out_dir_dilatation, save=True)"
   ]
  },
  {
   "cell_type": "markdown",
   "id": "a3ba948e-20f6-4048-ad99-992cda62c9a4",
   "metadata": {
    "pycharm": {
     "name": "#%% md\n"
    }
   },
   "source": [
    "## Konverzia na geojson"
   ]
  },
  {
   "cell_type": "code",
   "execution_count": null,
   "id": "27400fc2-7a32-4185-9bb5-7f35c5ed3ca2",
   "metadata": {
    "pycharm": {
     "name": "#%%\n"
    }
   },
   "outputs": [],
   "source": [
    "files = glob.glob(f\"{out_dir}*.png\")\n",
    "\n",
    "for file in files:\n",
    "    file_name = file.replace('\\\\', '/').replace(out_dir, '').replace('.png', '')\n",
    "    print(file_name)\n",
    "    image = cv.imread(f\"{file}\")\n",
    "    \n",
    "    geojson_file = create_geojson(image[:,:,0], ['inflammations'])\n",
    "    with open(f'{out_dir}{file_name}.geojson', 'w') as f:\n",
    "        dump(geojson_file, f)"
   ]
  },
  {
   "cell_type": "code",
   "execution_count": null,
   "id": "bbe00a29-2733-44b3-97ed-f05b7e4b7c1f",
   "metadata": {
    "pycharm": {
     "name": "#%%\n"
    }
   },
   "outputs": [],
   "source": []
  }
 ],
 "metadata": {
  "kernelspec": {
   "display_name": "Python 3 (ipykernel)",
   "language": "python",
   "name": "python3"
  },
  "language_info": {
   "codemirror_mode": {
    "name": "ipython",
    "version": 3
   },
   "file_extension": ".py",
   "mimetype": "text/x-python",
   "name": "python",
   "nbconvert_exporter": "python",
   "pygments_lexer": "ipython3",
   "version": "3.10.2"
  }
 },
 "nbformat": 4,
 "nbformat_minor": 5
}
