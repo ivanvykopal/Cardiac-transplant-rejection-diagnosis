{
 "cells": [
  {
   "cell_type": "markdown",
   "id": "8f87d5d9-9534-4bc4-a760-5bcc654d86d2",
   "metadata": {
    "pycharm": {
     "name": "#%%\n"
    }
   },
   "source": [
    "# Experimenty s Iterovanou dilatáciou\n",
    "\n",
    "**Autor: Bc. Ivan Vykopal**\n",
    "\n",
    "Tento notebook obsahuje funkcie pre experimenty s iterovanou dilatáciou pre identifikovanie záplových ložísk v histologických snímok na základe anotácií a segmentácii buniek."
   ]
  },
  {
   "cell_type": "code",
   "execution_count": null,
   "id": "7375db48-3008-47f5-afea-3e2687d9ccdd",
   "metadata": {},
   "outputs": [],
   "source": [
    "import pandas as pd\n",
    "import copy\n",
    "import geojson\n",
    "from geojson import Polygon, FeatureCollection, Feature, dump\n",
    "import numpy as np\n",
    "import os \n",
    "from shapely.geometry import shape, Polygon, MultiPolygon\n",
    "import matplotlib.pyplot as plt\n",
    "import random \n",
    "from sklearn.cluster import KMeans\n",
    "from sklearn.cluster import AgglomerativeClustering, DBSCAN\n",
    "from scipy.cluster import hierarchy\n",
    "import cv2 as cv\n",
    "import json\n",
    "\n",
    "import javabridge\n",
    "import bioformats as bf\n",
    "\n",
    "from os.path import exists\n",
    "import matplotlib.pyplot as plt\n",
    "import geopandas as gpd\n",
    "\n",
    "import itertools\n",
    "from shapely.geometry import mapping\n",
    "from shapely.ops import nearest_points\n",
    "\n",
    "from scipy.spatial import cKDTree"
   ]
  },
  {
   "cell_type": "code",
   "execution_count": null,
   "id": "e8c51872-bbea-40d0-9f36-140251c110b4",
   "metadata": {
    "pycharm": {
     "name": "#%%\n"
    }
   },
   "outputs": [],
   "source": [
    "def display_sample(display_list):\n",
    "    plt.figure(figsize=(18, 18))\n",
    "\n",
    "    for i in range(len(display_list)):\n",
    "        plt.subplot(1, len(display_list), i+1)\n",
    "        plt.imshow(display_list[i])\n",
    "        plt.axis('off')\n",
    "    plt.show()"
   ]
  },
  {
   "cell_type": "code",
   "execution_count": null,
   "id": "6cc1d216-cf73-43ab-9e69-83568f48771d",
   "metadata": {
    "pycharm": {
     "name": "#%%\n"
    }
   },
   "outputs": [],
   "source": [
    "def evaluate(original_mask, predicted_mask):\n",
    "    overlap = original_mask * predicted_mask\n",
    "    union = original_mask + predicted_mask\n",
    "    union = np.clip(union, 0, 1)\n",
    "    \n",
    "    if overlap.sum() == 0 and union.sum() == 0:\n",
    "        return 1, 1\n",
    "    \n",
    "    IOU = overlap.sum() / float(union.sum())\n",
    "    \n",
    "    dice = 2 * (overlap.sum()) / (union.sum() + overlap.sum())\n",
    "    \n",
    "    return IOU, dice"
   ]
  },
  {
   "cell_type": "code",
   "execution_count": null,
   "id": "9bd571e9-0d92-4008-af2c-9710b798ab3b",
   "metadata": {
    "pycharm": {
     "name": "#%%\n"
    }
   },
   "outputs": [],
   "source": [
    "def set_logs():\n",
    "    myloglevel = \"ERROR\"\n",
    "    rootLoggerName = javabridge.get_static_field(\"org/slf4j/Logger\", \"ROOT_LOGGER_NAME\", \"Ljava/lang/String;\")\n",
    "    rootLogger = javabridge.static_call(\"org/slf4j/LoggerFactory\", \"getLogger\",\n",
    "                                        \"(Ljava/lang/String;)Lorg/slf4j/Logger;\", rootLoggerName)\n",
    "    logLevel = javabridge.get_static_field(\"ch/qos/logback/classic/Level\", myloglevel,\n",
    "                                           \"Lch/qos/logback/classic/Level;\")\n",
    "    javabridge.call(rootLogger, \"setLevel\", \"(Lch/qos/logback/classic/Level;)V\", logLevel)"
   ]
  },
  {
   "cell_type": "code",
   "execution_count": null,
   "id": "6197d0d2-fb09-478e-9a19-a75bb39dbc17",
   "metadata": {
    "pycharm": {
     "name": "#%%\n"
    }
   },
   "outputs": [],
   "source": [
    "def find_tissues(gj):\n",
    "    features = gj['features']\n",
    "\n",
    "    for feature in features:\n",
    "        class_type = feature['properties']['classification']['name']\n",
    "        if class_type == 'Region*':\n",
    "            return feature"
   ]
  },
  {
   "cell_type": "code",
   "execution_count": null,
   "id": "2c1ac38a-0aa2-4329-ae2c-ef4d608f3476",
   "metadata": {
    "pycharm": {
     "name": "#%%\n"
    }
   },
   "outputs": [],
   "source": [
    "def get_fragment_coords(gj):\n",
    "    if gj:\n",
    "        features = gj['features']\n",
    "        tissues = find_tissues(gj)['geometry']['coordinates']\n",
    "        main_features_len = len(tissues)\n",
    "        main_coordinates = list()\n",
    "\n",
    "        for i in range(0, main_features_len):\n",
    "            coordinates = tissues[i]\n",
    "            geo: dict = {'type': 'Polygon', 'coordinates': coordinates}\n",
    "            polygon: Polygon = shape(geo)\n",
    "            mabr = polygon.bounds\n",
    "            mabr = [int(x) for x in mabr]\n",
    "            main_coordinates.append(mabr)\n",
    "\n",
    "        return main_coordinates, gj\n",
    "    else:\n",
    "        return None, None"
   ]
  },
  {
   "cell_type": "code",
   "execution_count": null,
   "id": "bea207c7-9ae4-4c3d-8720-a3c58fef32f5",
   "metadata": {
    "pycharm": {
     "name": "#%%\n"
    }
   },
   "outputs": [],
   "source": [
    "def get_geojson_from_file(path):\n",
    "    try:\n",
    "        return geojson.load(open(path))\n",
    "    except OSError:\n",
    "        return None"
   ]
  },
  {
   "cell_type": "code",
   "execution_count": null,
   "id": "5174e1ec-d6cc-4209-b967-f0c0de96cf40",
   "metadata": {
    "pycharm": {
     "name": "#%%\n"
    }
   },
   "outputs": [],
   "source": [
    "def pretize_text(annotation_type):\n",
    "    if annotation_type == 'blood_vessels':\n",
    "        return 'Blood vessels'\n",
    "    elif annotation_type == 'fatty_tissues':\n",
    "        return 'Fatty tissue'\n",
    "    elif annotation_type == 'inflammations':\n",
    "        return 'Inflammation'\n",
    "    elif annotation_type == 'endocariums':\n",
    "        return 'Endocarium'\n",
    "    elif annotation_type == 'fibrotic_tissues':\n",
    "        return 'Fibrotic tissue'\n",
    "    elif annotation_type == 'quilities':\n",
    "        return 'Quilty'\n",
    "    elif annotation_type == 'immune_cells':\n",
    "        return 'Immune cells'\n",
    "    else:\n",
    "        annotation_type = annotation_type.replace('_', ' ')\n",
    "        return annotation_type.replace(annotation_type[0], annotation_type[0].upper(), 1)"
   ]
  },
  {
   "cell_type": "code",
   "execution_count": null,
   "id": "f6ba72fe-254c-4b0f-b538-781bdcf5362d",
   "metadata": {
    "pycharm": {
     "name": "#%%\n"
    }
   },
   "outputs": [],
   "source": [
    "def get_coors(contour):\n",
    "    coors = []\n",
    "    for idx in range(len(contour)):\n",
    "        coors.append(contour[idx, 0].tolist())\n",
    "\n",
    "    return coors"
   ]
  },
  {
   "cell_type": "code",
   "execution_count": null,
   "id": "64e29c46-1a4c-4c40-b0ac-e80636b023c5",
   "metadata": {
    "pycharm": {
     "name": "#%%\n"
    }
   },
   "outputs": [],
   "source": [
    "def fix_polygon(contour):\n",
    "    return np.concatenate((contour, [contour[0]]))"
   ]
  },
  {
   "cell_type": "code",
   "execution_count": null,
   "id": "5b0fb3f3-6853-4d3c-8c3c-6b43c74bcffe",
   "metadata": {
    "pycharm": {
     "name": "#%%\n"
    }
   },
   "outputs": [],
   "source": [
    "def create_properties_template(annotation):\n",
    "    return {\n",
    "        \"object_type\": \"annotation\",\n",
    "        \"classification\": {\n",
    "            \"name\": pretize_text(annotation)\n",
    "        },\n",
    "    }"
   ]
  },
  {
   "cell_type": "code",
   "execution_count": null,
   "id": "eb7c76e0-5507-4f3d-9f4c-a60a23aa3952",
   "metadata": {
    "pycharm": {
     "name": "#%%\n"
    }
   },
   "outputs": [],
   "source": [
    "def create_polygon(coors):\n",
    "    return {\n",
    "        \"type\": \"Polygon\",\n",
    "        \"coordinates\": coors\n",
    "    }"
   ]
  },
  {
   "cell_type": "code",
   "execution_count": null,
   "id": "69b9bc05-d1f5-489b-8d5e-acd0175ffe42",
   "metadata": {
    "pycharm": {
     "name": "#%%\n"
    }
   },
   "outputs": [],
   "source": [
    "def get_features(contours, annotation):\n",
    "    features = []\n",
    "    for contour in contours:\n",
    "        contour = fix_polygon(contour)\n",
    "        coors = get_coors(contour)\n",
    "        if len(coors) < 3:\n",
    "            continue\n",
    "\n",
    "        features.append(Feature(\n",
    "            geometry=create_polygon([coors]),\n",
    "            properties=create_properties_template(annotation)\n",
    "        ))\n",
    "\n",
    "    return features"
   ]
  },
  {
   "cell_type": "code",
   "execution_count": null,
   "id": "6952e167-a63e-404e-a8ef-b9d8da742f1f",
   "metadata": {
    "pycharm": {
     "name": "#%%\n"
    }
   },
   "outputs": [],
   "source": [
    "def create_geojson(mask, annotation_classes):\n",
    "    mask = np.uint8(mask)\n",
    "\n",
    "    features = []\n",
    "    if len(mask.shape) == 3:\n",
    "        _, _, classes = mask.shape\n",
    "        assert classes == len(annotation_classes)\n",
    "\n",
    "        for c in range(classes):\n",
    "            contours, hierarchy = cv.findContours(mask[:, :, c], cv.RETR_EXTERNAL, cv.CHAIN_APPROX_NONE)\n",
    "\n",
    "            features.extend(get_features(contours, annotation_classes[c]))\n",
    "\n",
    "        return FeatureCollection(features)\n",
    "    else:\n",
    "        assert len(annotation_classes) == 1\n",
    "\n",
    "        contours, hierarchy = cv.findContours(mask, cv.RETR_EXTERNAL, cv.CHAIN_APPROX_NONE)\n",
    "        features = get_features(contours, annotation_classes[0])\n",
    "\n",
    "        return FeatureCollection(features)"
   ]
  },
  {
   "cell_type": "code",
   "execution_count": null,
   "id": "c6435d79-082f-43cb-865c-0d153606e027",
   "metadata": {
    "pycharm": {
     "name": "#%%\n"
    }
   },
   "outputs": [],
   "source": [
    "def get_color():\n",
    "    r = random.randint(0,255)\n",
    "    g = random.randint(0,255)\n",
    "    b = random.randint(0,255)\n",
    "    return (r,g,b)\n",
    "\n",
    "def dilate(mask, dilate=False):\n",
    "    dilated = mask\n",
    "    nuclei, hierarchy = cv.findContours(dilated, cv.RETR_EXTERNAL, cv.CHAIN_APPROX_SIMPLE)\n",
    "    num_dilatations = 0\n",
    "\n",
    "    while len(nuclei) != 1:\n",
    "        dilated = cv.dilate(dilated, cv.getStructuringElement(cv.MORPH_ELLIPSE, (10, 10)))\n",
    "        nuclei, hierarchy = cv.findContours(dilated, cv.RETR_EXTERNAL, cv.CHAIN_APPROX_SIMPLE)\n",
    "        num_dilatations += 1\n",
    "    \n",
    "    if dilate:\n",
    "        while num_dilatations:\n",
    "            dilated = cv2.erode(dilated, cv2.getStructuringElement(cv2.MORPH_ELLIPSE, (10, 10)))\n",
    "            num_dilatations -= 1\n",
    "\n",
    "    return dilated"
   ]
  },
  {
   "cell_type": "code",
   "execution_count": null,
   "id": "f44d18fb-fb12-481e-beb5-f38c391f193d",
   "metadata": {
    "pycharm": {
     "name": "#%%\n"
    }
   },
   "outputs": [],
   "source": [
    "def get_annotations(coordinates, gj):\n",
    "    features = gj['features']\n",
    "\n",
    "    polygons = dict()\n",
    "    for a in range(len(coordinates)):\n",
    "        polygons[a] = []\n",
    "\n",
    "    for poly in features[1:]:\n",
    "        akt_poly = copy.deepcopy(poly)\n",
    "        if len(poly['nucleusGeometry']['coordinates'][0][0]) == 2:\n",
    "            test_coords_x, test_coords_y = poly['nucleusGeometry']['coordinates'][0][0]\n",
    "            for idx, (left, bottom, right, top) in enumerate(coordinates):\n",
    "                if right >= test_coords_x >= left and bottom <= test_coords_y <= top:\n",
    "                    coordinates_poly = akt_poly['nucleusGeometry']['coordinates']\n",
    "                    shifted_coords = [(int(coords[0]) - left, int(coords[1]) - bottom) for coords in\n",
    "                                      coordinates_poly[0]]\n",
    "                    if shifted_coords[0][0] > 0 and shifted_coords[0][1] > 0:\n",
    "                        akt_poly['nucleusGeometry']['coordinates'] = [shifted_coords]\n",
    "                        polygons[idx].append(akt_poly)\n",
    "\n",
    "    return polygons"
   ]
  },
  {
   "cell_type": "code",
   "execution_count": null,
   "id": "8ad85ebe-c446-4141-998d-1abaa62f5af3",
   "metadata": {
    "pycharm": {
     "name": "#%%\n"
    }
   },
   "outputs": [],
   "source": [
    "def get_area(contours):\n",
    "    area = 0\n",
    "    for contour in contours:\n",
    "        area += cv.contourArea(contour)\n",
    "        \n",
    "    return area"
   ]
  },
  {
   "cell_type": "code",
   "execution_count": null,
   "id": "014a1e10-89c2-4baa-9ed7-67fa40747b56",
   "metadata": {
    "pycharm": {
     "name": "#%%\n"
    }
   },
   "outputs": [],
   "source": [
    "def ckdnearest(gdA, gdB):\n",
    "    nA = np.array(list(gdA.geometry.centroid.apply(lambda x: (x.x, x.y))))\n",
    "    nB = np.array(list(gdB.geometry.centroid.apply(lambda x: (x.x, x.y))))\n",
    "    btree = cKDTree(nB)\n",
    "    dist, idx = btree.query(nA, k=2)\n",
    "\n",
    "    return dist[:, 1]"
   ]
  },
  {
   "cell_type": "code",
   "execution_count": null,
   "id": "089cc8c3-e5b9-48f9-95da-fed26d15d9a0",
   "metadata": {
    "pycharm": {
     "name": "#%%\n"
    }
   },
   "outputs": [],
   "source": [
    "def iterative_dilation(image1, image2, threshold):\n",
    "    nuclei, hierarchy = cv.findContours(image1, cv.RETR_EXTERNAL, cv.CHAIN_APPROX_SIMPLE)\n",
    "    \n",
    "    area = get_area(nuclei)\n",
    "    nuclei_count_all = len(nuclei)\n",
    "    nuclei_count = nuclei_count_all\n",
    "    nuclei_count_diff = nuclei_count_all\n",
    "    \n",
    "    dilated1 = image1\n",
    "    dilated2 = image2\n",
    "    while nuclei_count_diff:\n",
    "        dilated1 = cv.dilate(dilated1, cv.getStructuringElement(cv.MORPH_ELLIPSE, (5, 5)))\n",
    "        dilated2 = cv.dilate(dilated2, cv.getStructuringElement(cv.MORPH_ELLIPSE, (3, 3)))\n",
    "        \n",
    "        contours, hierarchy = cv.findContours(dilated1, cv.RETR_EXTERNAL, cv.CHAIN_APPROX_SIMPLE)\n",
    "        gdf = gpd.GeoDataFrame.from_features(FeatureCollection(get_features(contours, 'other')))\n",
    "        \n",
    "        distances = ckdnearest(gdf, gdf)\n",
    "        if all(distances > threshold):\n",
    "            break\n",
    "        \n",
    "        nuclei_count_diff = nuclei_count - len(contours)\n",
    "        nuclei_count = len(contours)\n",
    "    \n",
    "    return dilated1, dilated2, area, nuclei_count_all"
   ]
  },
  {
   "cell_type": "code",
   "execution_count": null,
   "id": "219fd4e1-5dfa-49ae-86bd-66c2cb56609a",
   "metadata": {
    "pycharm": {
     "name": "#%%\n"
    }
   },
   "outputs": [],
   "source": [
    "def get_inflammatory_clustering(image_shape, gj, eps=100, min_samples=20): \n",
    "    features = gj['features']\n",
    "    centroids = list()\n",
    "    polygons = dict()\n",
    "    \n",
    "    index = 0\n",
    "    for feature in features:\n",
    "        if feature['properties']['classification']['name'] != 'Region*':\n",
    "            s = shape(feature['geometry'])\n",
    "            polygons[index] = s\n",
    "            centroids.append([s.centroid.x, s.centroid.y])\n",
    "            index += 1\n",
    "    \n",
    "    X = np.array(centroids)\n",
    "    db = DBSCAN(eps=eps, min_samples=min_samples).fit(X)\n",
    "    unique = np.unique(db.labels_)\n",
    "    dilated_img = np.zeros(image_shape).astype(np.uint8)\n",
    "            \n",
    "    for unique_idx, unique_value in enumerate(unique[1:]):\n",
    "        indexes = np.where(db.labels_ == unique_value)[0]\n",
    "        mask = np.zeros(image_shape, dtype=np.uint8)\n",
    "\n",
    "        for idx in indexes:\n",
    "            coors = list(zip(*polygons[idx].exterior.coords.xy))\n",
    "            pts = [[round(c[0]), round(c[1])] for c in coors]\n",
    "            cv.fillPoly(mask, [np.array(pts)], 1)\n",
    "\n",
    "        mask = dilate(mask)\n",
    "        dilated_img[mask != 0] = 1\n",
    "        \n",
    "    return dilated_img"
   ]
  },
  {
   "cell_type": "code",
   "execution_count": null,
   "id": "4d4c86bb-064a-49f4-ad12-1dccc6fc58ad",
   "metadata": {
    "pycharm": {
     "name": "#%%\n"
    }
   },
   "outputs": [],
   "source": [
    "def get_inflammatory_dilation(image_shape, gj, threshold=0.01, area_threshold=15_000, iteration_threshold=5):\n",
    "    image_immune = np.zeros(image_shape, dtype=np.uint8)\n",
    "    image_other = np.zeros(image_shape, dtype=np.uint8)\n",
    "    \n",
    "    for feature in gj['features']:\n",
    "        if feature['properties']['classification']['name'] == 'Immune cells':\n",
    "            polygon = feature['geometry']\n",
    "            for coors in polygon['coordinates']:\n",
    "                pts = [[round(c[0]), round(c[1])] for c in coors]\n",
    "                cv.fillPoly(image_immune, [np.array(pts)], 1)\n",
    "        elif feature['properties']['classification']['name'] == 'Other cells' or feature['properties']['classification']['name'] == 'Muscle cells':\n",
    "            polygon = feature['geometry']\n",
    "            for coors in polygon['coordinates']:\n",
    "                pts = [[round(c[0]), round(c[1])] for c in coors]\n",
    "                cv.fillPoly(image_other, [np.array(pts)], 1)\n",
    "    \n",
    "    dilated_immune, dilated_other, area, nuclei_count = iterative_dilation(image_immune, image_other, iteration_threshold)\n",
    "    mask_immune = np.zeros(image_shape).astype(np.uint8)\n",
    "    mask_other = np.zeros(image_shape).astype(np.uint8)\n",
    "    \n",
    "    return dilated_immune, dilated_other"
   ]
  },
  {
   "cell_type": "code",
   "execution_count": null,
   "id": "0373dc98-2718-4435-b8da-801db5f1b8c4",
   "metadata": {
    "pycharm": {
     "name": "#%%\n"
    }
   },
   "outputs": [],
   "source": [
    "def create_mask_from_df(df, size):\n",
    "    canvas = np.zeros(size).astype(np.uint8)\n",
    "    for index, row in df.iterrows():\n",
    "        if row['geometry'].geom_type == 'Polygon':\n",
    "            polygon = row['geometry']\n",
    "            coors = list(zip(*polygon.exterior.coords.xy))\n",
    "            pts = [[round(c[0]), round(c[1])] for c in coors]\n",
    "            cv.fillPoly(canvas, [np.array(pts)], 1)\n",
    "    \n",
    "    return canvas"
   ]
  },
  {
   "cell_type": "code",
   "execution_count": null,
   "id": "e0dad6ea-ee5b-4888-bc8b-c05603c3db0f",
   "metadata": {
    "pycharm": {
     "name": "#%%\n"
    }
   },
   "outputs": [],
   "source": [
    "def get_final_geojson(df1, df2):\n",
    "    for index, row in df2.iterrows():\n",
    "        row_intersections = df1[df1.intersects(row['geometry'].buffer(0))]\n",
    "        \n",
    "        if row_intersections is not None and len(list(row_intersections.index)) > 0:\n",
    "            df1.loc[row_intersections.index, 'geometry'] = df1.loc[row_intersections.index, 'geometry'].union(row['geometry'].buffer(0))\n",
    "    \n",
    "    return df1"
   ]
  },
  {
   "cell_type": "code",
   "execution_count": null,
   "id": "98183d65-82bc-4e9d-af04-bde709b2afbe",
   "metadata": {
    "pycharm": {
     "name": "#%%\n"
    }
   },
   "outputs": [],
   "source": [
    "def get_mask(img, annotations):\n",
    "    x, y = int(img.shape[0]), int(img.shape[1])\n",
    "\n",
    "    mask = np.zeros((x, y), dtype='uint8')\n",
    "    for feat in annotations:\n",
    "        classification = feat['properties'].get('classification')\n",
    "        if classification and classification['name'] == 'Inflammation':\n",
    "            for coors in feat['geometry']['coordinates']:\n",
    "                if feat['geometry']['type'] == 'MultiPolygon':\n",
    "                    coors = coors[0]\n",
    "                pts = [[round(c[0]), round(c[1])] for c in coors]\n",
    "                cv.fillPoly(mask, [np.array(pts)], 1)  # fill with ones if cell present\n",
    "\n",
    "    return mask"
   ]
  },
  {
   "cell_type": "code",
   "execution_count": null,
   "id": "2608c3cd-a77f-49aa-a1ee-a222138afdb0",
   "metadata": {
    "pycharm": {
     "name": "#%%\n"
    }
   },
   "outputs": [],
   "source": [
    "def process_image(image_path, geojson_path, output_path, postprocessing_type, algo_type, iteration_threshold, area_threshold):\n",
    "    #javabridge.start_vm(class_path=bf.JARS)\n",
    "    set_logs()\n",
    "\n",
    "    image_reader = bf.formatreader.make_image_reader_class()()\n",
    "    gj = get_geojson_from_file(geojson_path)\n",
    "    \n",
    "    file_name = image_path.replace('\\\\', '/').split('/')[-1].split('.')[0]\n",
    "    \n",
    "    if gj is None:\n",
    "        print('Error')\n",
    "        return None\n",
    "    \n",
    "    features_all, geojson_cell = get_fragment_coords(gj)\n",
    "\n",
    "    image_reader.allowOpenToCheckType(True)\n",
    "    image_reader.setId(image_path)\n",
    "    image_reader.setSeries(0)\n",
    "    wrapper = bf.formatreader.ImageReader(path=image_path, perform_init=False)\n",
    "    wrapper.rdr = image_reader\n",
    "\n",
    "    sizeX = wrapper.rdr.getSizeX()\n",
    "    sizeY = wrapper.rdr.getSizeY()\n",
    "    \n",
    "    if algo_type == 'dbscan':\n",
    "        mask = get_inflammatory_clustering((sizeY, sizeX), gj)\n",
    "        geojson_file = create_geojson(mask, ['inflammations'])\n",
    "        \n",
    "        with open(f'{output_path}/{file_name}.geojson', 'w') as f:\n",
    "            dump(geojson_file, f)\n",
    "        \n",
    "    elif algo_type == 'dilatation':\n",
    "        mask1, mask2 = get_inflammatory_dilation((sizeY, sizeX), gj, iteration_threshold=iteration_threshold, area_threshold=area_threshold)\n",
    "        geojson_file1 = create_geojson(mask1, ['inflammations'])\n",
    "        geojson_file2 = create_geojson(mask2, ['inflammations'])\n",
    "        \n",
    "        df1 = gpd.GeoDataFrame.from_features(geojson_file1)\n",
    "        df2 = gpd.GeoDataFrame.from_features(geojson_file2)\n",
    "        if not df1.empty:\n",
    "            df = get_final_geojson(df1, df2)\n",
    "            df = df[df.area > area_threshold]\n",
    "        \n",
    "            mask = create_mask_from_df(df, (sizeY, sizeX))\n",
    "        else:\n",
    "            mask = mask1\n",
    "        \n",
    "        with open(f'{output_path}/{file_name}-{iteration_threshold}-{area_threshold}.geojson', 'w') as f:\n",
    "            dump(create_geojson(mask, ['inflammations']), f)\n",
    "        \n",
    "        o_mask = geojson.load(open('D:/Master Thesis/Data/21.06. 2022 annotations/1225_21_HE.vsi - 20x_annotations.geojson'))\n",
    "        image = cv.imread(f\"D:/Master Thesis/ANN Imunne cells/1225_21_HE.png\")\n",
    "        original_mask = get_mask(image, o_mask['features'])\n",
    "        IoU, dice = evaluate(original_mask, mask)\n",
    "        print(f'IoU: {IoU}, DICE: {dice}')\n",
    "    \n",
    "    print(f'{file_name} done!')\n",
    "        \n",
    "    #javabridge.kill_vm()\n",
    "    "
   ]
  },
  {
   "cell_type": "code",
   "execution_count": null,
   "id": "73de6569-f153-41ef-be4c-36d6f76faf62",
   "metadata": {
    "pycharm": {
     "name": "#%%\n"
    }
   },
   "outputs": [],
   "source": [
    "javabridge.start_vm(class_path=bf.JARS)\n",
    "for th in [25, 35, 45, 50, 60, 65, 75, 80, 100]:\n",
    "    for area_th in [15_000, 20_000, 25_000, 30_000, 35_000, 40_000]:\n",
    "        print(f'Area: {area_th}, Distance: {th}')\n",
    "        process_image(\n",
    "            image_path='D:/Master Thesis/Data/EMB-IKEM-2022-03-09/1225_21_HE.vsi',\n",
    "            geojson_path='D:/Master Thesis/Data/EMB-IKEM-2022-03-09/QuPath project EMB - anotations/annotations/1225_21_HE.vsi - 20x.geojson',\n",
    "            output_path='D:/test',\n",
    "            postprocessing_type='all',\n",
    "            algo_type='dilatation',\n",
    "            iteration_threshold=th,\n",
    "            area_threshold=area_th\n",
    "        )\n",
    "javabridge.kill_vm()"
   ]
  },
  {
   "cell_type": "code",
   "execution_count": null,
   "id": "8e6e3459-221d-42be-a1d2-c4fa7f991dea",
   "metadata": {
    "pycharm": {
     "name": "#%%\n"
    }
   },
   "outputs": [],
   "source": []
  }
 ],
 "metadata": {
  "kernelspec": {
   "display_name": "Python 3 (ipykernel)",
   "language": "python",
   "name": "python3"
  },
  "language_info": {
   "codemirror_mode": {
    "name": "ipython",
    "version": 3
   },
   "file_extension": ".py",
   "mimetype": "text/x-python",
   "name": "python",
   "nbconvert_exporter": "python",
   "pygments_lexer": "ipython3",
   "version": "3.10.2"
  }
 },
 "nbformat": 4,
 "nbformat_minor": 5
}
