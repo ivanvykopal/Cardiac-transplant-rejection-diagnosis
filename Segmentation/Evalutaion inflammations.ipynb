{
 "cells": [
  {
   "cell_type": "code",
   "execution_count": null,
   "id": "1dadcbe7-9f05-4886-9174-857298f0df59",
   "metadata": {
    "pycharm": {
     "name": "#%%\n"
    }
   },
   "outputs": [],
   "source": [
    "import glob\n",
    "import numpy as np\n",
    "import cv2 as cv\n",
    "import json\n",
    "import pandas as pd\n",
    "from tqdm import tqdm\n",
    "\n",
    "\n",
    "import matplotlib.pyplot as plt\n",
    "import matplotlib as mpl\n",
    "mpl.rcParams['axes.grid'] = False\n",
    "mpl.rcParams['figure.figsize'] = (12,12)\n",
    "\n",
    "import geojson"
   ]
  },
  {
   "cell_type": "code",
   "execution_count": null,
   "id": "01b06cba-ee21-4f7e-9bf8-b2f2e5097b23",
   "metadata": {
    "pycharm": {
     "name": "#%%\n"
    }
   },
   "outputs": [],
   "source": [
    "def IoU(y_true, y_pred):\n",
    "    y_true = y_true.flatten()\n",
    "    y_pred = y_pred.flatten()\n",
    "    \n",
    "    intersection = np.logical_and(y_true, y_pred)\n",
    "    union = np.logical_or(y_true, y_pred)\n",
    "    iou_score = np.sum(intersection) / np.sum(union)\n",
    "    return iou_score"
   ]
  },
  {
   "cell_type": "code",
   "execution_count": null,
   "id": "90051c67-4620-4d7d-91bd-72319f59a757",
   "metadata": {
    "pycharm": {
     "name": "#%%\n"
    }
   },
   "outputs": [],
   "source": [
    "def dice_coef(y_true, y_pred):\n",
    "    y_true = y_true.flatten()\n",
    "    y_pred = y_pred.flatten()\n",
    "    \n",
    "    intersect = np.sum(y_true * y_pred)\n",
    "    fsum = np.sum(y_true)\n",
    "    ssum = np.sum(y_pred)\n",
    "    dice = (2 * intersect ) / (fsum + ssum)\n",
    "    return dice"
   ]
  },
  {
   "cell_type": "code",
   "execution_count": null,
   "id": "9995acd0-2c35-44a0-88e8-74cf483ff7cb",
   "metadata": {
    "pycharm": {
     "name": "#%%\n"
    }
   },
   "outputs": [],
   "source": [
    "def get_mask_index(feature, classes):\n",
    "    class_type = feature['properties']['classification']['name']\n",
    "\n",
    "    for idx, name in enumerate(classes):\n",
    "        if class_type.lower() == name.lower():\n",
    "            return idx\n",
    "\n",
    "    # else return Other cells\n",
    "    return 0\n",
    "\n",
    "\n",
    "def get_mask(shape, annotations, classes):\n",
    "    x, y = int(shape[0]), int(shape[1])\n",
    "\n",
    "    classes_masks = [\n",
    "        np.zeros((x, y, 1), dtype='uint8')\n",
    "        for _ in range(len(classes))\n",
    "    ]\n",
    "\n",
    "    for feat in annotations:\n",
    "        geometry_name = 'geometry'\n",
    "        coors = feat[geometry_name]['coordinates'][0]\n",
    "        try:\n",
    "            pts = [[round(c[0]), round(c[1])] for c in coors]\n",
    "        except:\n",
    "            pts = [[round(c[0]), round(c[1])] for c in coors[0]]\n",
    "        cv.fillPoly(\n",
    "            classes_masks[get_mask_index(feat, classes)],\n",
    "            [np.array(pts)],\n",
    "            1\n",
    "        )  # fill with ones if cell present\n",
    "\n",
    "    mask = np.concatenate(classes_masks, axis=2)\n",
    "    return mask"
   ]
  },
  {
   "cell_type": "code",
   "execution_count": null,
   "id": "3a458b71-a0ed-4d03-8741-562f7af2bb92",
   "metadata": {
    "pycharm": {
     "name": "#%%\n"
    }
   },
   "outputs": [],
   "source": [
    "def get_metrics(df, ground_truth_path, predicted_path, classes, shape, name, distance, area, only_immune, num_cells):\n",
    "    data = {\n",
    "        'name': name,\n",
    "        'min_distance': distance,\n",
    "        'min_area': area,\n",
    "        'only_immune': only_immune,\n",
    "        'num_cells': num_cells\n",
    "    }\n",
    "    gj = geojson.load(open(ground_truth_path))\n",
    "    ground_truth = get_mask(shape, gj['features'], classes)\n",
    "    \n",
    "    gj = geojson.load(open(predicted_path))\n",
    "    predicted = get_mask(shape, gj['features'], classes)\n",
    "    \n",
    "    for c_idx, c in enumerate(classes):\n",
    "        data[f'IoU {c}'] = IoU(ground_truth[:, :, c_idx], predicted[:, :, c_idx])\n",
    "        data[f'Dice {c}'] = dice_coef(ground_truth[:, :, c_idx], predicted[:, :, c_idx])\n",
    "    \n",
    "    return pd.concat([\n",
    "            df,\n",
    "            pd.DataFrame([data])\n",
    "        ])"
   ]
  },
  {
   "cell_type": "code",
   "execution_count": null,
   "id": "7ba8bb8c-1f4e-4260-8f54-35fa5d4e0c90",
   "metadata": {
    "pycharm": {
     "name": "#%%\n"
    }
   },
   "outputs": [],
   "source": [
    "def calculate_metrics():\n",
    "    df = pd.DataFrame()\n",
    "    \n",
    "    experiment_path = r'D:\\DBSCAN'\n",
    "    experiments = glob.glob(f'{experiment_path}\\\\*')\n",
    "    \n",
    "    ground_truth_path = r'D:\\Master Thesis\\Data\\Annotations'\n",
    "    \n",
    "    for experiment in experiments:\n",
    "        predicted_path = experiment\n",
    "        num_cells = experiment.replace('\\\\', '/').split('/').pop().split('-')[0]\n",
    "        distance = experiment.replace('\\\\', '/').split('/').pop().split('-')[1]\n",
    "        area = experiment.replace('\\\\', '/').split('/').pop().split('-')[2]\n",
    "        only_immune = experiment.replace('\\\\', '/').split('/').pop().split('-')[3]\n",
    "        print(distance, area, only_immune)\n",
    "        \n",
    "        classes = ['Inflammation'] \n",
    "\n",
    "        json_path = './data/images_512.json'\n",
    "\n",
    "        with open(json_path) as json_file:\n",
    "            json_data = json.load(json_file)\n",
    "\n",
    "        ground_truth_files = glob.glob(f'{ground_truth_path}\\\\*.geojson')\n",
    "        predicted_files = glob.glob(f'{predicted_path}\\\\*.geojson')\n",
    "\n",
    "        for image in tqdm(json_data['images'], total=len(json_data['images'])):\n",
    "            name = image['name']\n",
    "            predicted = [geo for geo in predicted_files if name in geo]\n",
    "\n",
    "            ground_truth = [geo for geo in ground_truth_files if name in geo]\n",
    "            if len(ground_truth) == 0 or len(predicted) == 0:\n",
    "                continue\n",
    "                \n",
    "            predicted = predicted[0]\n",
    "            ground_truth = ground_truth[0]\n",
    "            shape = (image['height'], image['width'])\n",
    "\n",
    "            df = get_metrics(df, ground_truth, predicted, classes, shape, name, distance, area, only_immune, num_cells)\n",
    "\n",
    "    return df"
   ]
  },
  {
   "cell_type": "code",
   "execution_count": null,
   "id": "bd17b558-34d4-4dcc-a6d2-6fdb8ed0cd19",
   "metadata": {
    "pycharm": {
     "name": "#%%\n"
    }
   },
   "outputs": [],
   "source": [
    "df = calculate_metrics()"
   ]
  },
  {
   "cell_type": "code",
   "execution_count": null,
   "id": "5c94f0a4-92b3-421e-8c32-0ebc0358c161",
   "metadata": {
    "pycharm": {
     "name": "#%%\n"
    }
   },
   "outputs": [],
   "source": [
    "df"
   ]
  },
  {
   "cell_type": "code",
   "execution_count": null,
   "id": "ccefa04d-7e42-4a60-9b1d-74b3cdea62fa",
   "metadata": {
    "pycharm": {
     "name": "#%%\n"
    }
   },
   "outputs": [],
   "source": [
    "df.mean()"
   ]
  },
  {
   "cell_type": "code",
   "execution_count": null,
   "id": "88efd608-2216-4f37-a1bc-13041aa184f6",
   "metadata": {
    "pycharm": {
     "name": "#%%\n"
    }
   },
   "outputs": [],
   "source": [
    "num_cells = [10, 15, 20]\n",
    "areas = [15_000, 20_000, 25_000, 30_000, 35_000, 40_000]\n",
    "distances = [40, 45, 50, 55, 65, 75, 80, 90, 100]\n",
    "only_immunes = [False, True]"
   ]
  },
  {
   "cell_type": "code",
   "execution_count": null,
   "id": "2ea50787-be41-4fc5-9fab-1a6b3a29a898",
   "metadata": {
    "pycharm": {
     "name": "#%%\n"
    }
   },
   "outputs": [],
   "source": [
    "data = [\n",
    "    {\n",
    "        'Maximálna vzdialenosť': distance,\n",
    "        'Minimána plocha': area,\n",
    "        'Iba imunitné': only_immune,\n",
    "        'Počet buniek': num_cell,\n",
    "        'IoU [%]': df[(df['IoU Inflammation'] != 0) & (df['min_distance'].astype(str) == f'{distance}') & (df['min_area'].astype(str) == f'{area}') & (df['only_immune'].astype(str) == f'{only_immune}') & (df['num_cells'].astype(str) == f'{num_cell}')]['IoU Inflammation'].mean() * 100,\n",
    "        'Min IoU [%]': df[(df['IoU Inflammation'] != 0) & (df['min_distance'].astype(str) == f'{distance}') & (df['min_area'].astype(str) == f'{area}') & (df['only_immune'].astype(str) == f'{only_immune}') & (df['num_cells'].astype(str) == f'{num_cell}')]['IoU Inflammation'].min() * 100,\n",
    "        'Max IoU [%]': df[(df['IoU Inflammation'] != 0) & (df['min_distance'].astype(str) == f'{distance}') & (df['min_area'].astype(str) == f'{area}') & (df['only_immune'].astype(str) == f'{only_immune}') & (df['num_cells'].astype(str) == f'{num_cell}')]['IoU Inflammation'].max() * 100,\n",
    "        'Dice [%]': df[(df['IoU Inflammation'] != 0) & (df['min_distance'].astype(str) == f'{distance}') & (df['min_area'].astype(str) == f'{area}') & (df['only_immune'].astype(str) == f'{only_immune}') & (df['num_cells'].astype(str) == f'{num_cell}')]['Dice Inflammation'].mean() * 100,\n",
    "        'Min Dice [%]': df[(df['IoU Inflammation'] != 0) & (df['min_distance'].astype(str) == f'{distance}') & (df['min_area'].astype(str) == f'{area}') & (df['only_immune'].astype(str) == f'{only_immune}') & (df['num_cells'].astype(str) == f'{num_cell}')]['Dice Inflammation'].min() * 100,\n",
    "        'Max Dice [%]': df[(df['IoU Inflammation'] != 0) & (df['min_distance'].astype(str) == f'{distance}') & (df['min_area'].astype(str) == f'{area}') & (df['only_immune'].astype(str) == f'{only_immune}') & (df['num_cells'].astype(str) == f'{num_cell}')]['Dice Inflammation'].max() * 100,\n",
    "    }\n",
    "    for area in areas\n",
    "    for distance in distances\n",
    "    for num_cell in num_cells\n",
    "    for only_immune in only_immunes\n",
    "]"
   ]
  },
  {
   "cell_type": "code",
   "execution_count": null,
   "id": "f2f6ac67-85c4-4f5e-be02-e5037b18aa21",
   "metadata": {
    "pycharm": {
     "name": "#%%\n"
    }
   },
   "outputs": [],
   "source": [
    "data"
   ]
  },
  {
   "cell_type": "code",
   "execution_count": null,
   "id": "7e961256-9be7-4242-b756-31b609d7a519",
   "metadata": {
    "pycharm": {
     "name": "#%%\n"
    }
   },
   "outputs": [],
   "source": [
    "metrics_df = pd.DataFrame(data)"
   ]
  },
  {
   "cell_type": "code",
   "execution_count": null,
   "id": "e44b9e40-6940-4ae4-89bd-96851062d6de",
   "metadata": {
    "pycharm": {
     "name": "#%%\n"
    }
   },
   "outputs": [],
   "source": [
    "print(metrics_df.sort_values(by=['Iba imunitné', 'Maximálna vzdialenosť', 'Minimána plocha']).round(2).to_latex(index=False))"
   ]
  },
  {
   "cell_type": "code",
   "execution_count": null,
   "id": "92b9a2a7",
   "metadata": {
    "collapsed": false,
    "jupyter": {
     "outputs_hidden": false
    },
    "pycharm": {
     "name": "#%%\n"
    }
   },
   "outputs": [],
   "source": [
    "metrics_df.sort_values(by=['IoU [%]'], ascending=False)"
   ]
  }
 ],
 "metadata": {
  "kernelspec": {
   "display_name": "Python 3 (ipykernel)",
   "language": "python",
   "name": "python3"
  },
  "language_info": {
   "codemirror_mode": {
    "name": "ipython",
    "version": 3
   },
   "file_extension": ".py",
   "mimetype": "text/x-python",
   "name": "python",
   "nbconvert_exporter": "python",
   "pygments_lexer": "ipython3",
   "version": "3.10.2"
  }
 },
 "nbformat": 4,
 "nbformat_minor": 5
}
