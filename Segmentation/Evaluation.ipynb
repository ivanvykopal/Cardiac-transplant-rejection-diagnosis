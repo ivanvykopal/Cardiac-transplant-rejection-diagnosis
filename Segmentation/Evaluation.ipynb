{
 "cells": [
  {
   "cell_type": "code",
   "execution_count": null,
   "id": "1dadcbe7-9f05-4886-9174-857298f0df59",
   "metadata": {
    "pycharm": {
     "name": "#%%\n"
    }
   },
   "outputs": [],
   "source": [
    "import glob\n",
    "import matplotlib.pyplot as plt\n",
    "import matplotlib.patches as mpatches\n",
    "import numpy as np\n",
    "import cv2 as cv\n",
    "import json\n",
    "import os\n",
    "import pandas as pd\n",
    "from tqdm import tqdm\n",
    "import operator\n",
    "\n",
    "import matplotlib.pyplot as plt\n",
    "import matplotlib as mpl\n",
    "mpl.rcParams['axes.grid'] = False\n",
    "mpl.rcParams['figure.figsize'] = (12,12)\n",
    "import matplotlib.image as mpimg\n",
    "\n",
    "import geojson\n",
    "from sklearn.metrics import confusion_matrix, ConfusionMatrixDisplay\n",
    "from Utils.Postprocessing.post_process import postprocess_mask, merge_nearest_endocards"
   ]
  },
  {
   "cell_type": "code",
   "execution_count": null,
   "id": "01b06cba-ee21-4f7e-9bf8-b2f2e5097b23",
   "metadata": {
    "pycharm": {
     "name": "#%%\n"
    }
   },
   "outputs": [],
   "source": [
    "def IoU(y_true, y_pred):\n",
    "    y_true = y_true.flatten()\n",
    "    y_pred = y_pred.flatten()\n",
    "    \n",
    "    intersection = np.logical_and(y_true, y_pred)\n",
    "    union = np.logical_or(y_true, y_pred)\n",
    "    iou_score = np.sum(intersection) / np.sum(union)\n",
    "    return iou_score"
   ]
  },
  {
   "cell_type": "code",
   "execution_count": null,
   "id": "90051c67-4620-4d7d-91bd-72319f59a757",
   "metadata": {
    "pycharm": {
     "name": "#%%\n"
    }
   },
   "outputs": [],
   "source": [
    "def dice_coef(y_true, y_pred):\n",
    "    y_true = y_true.flatten()\n",
    "    y_pred = y_pred.flatten()\n",
    "    \n",
    "    intersect = np.sum(y_true * y_pred)\n",
    "    fsum = np.sum(y_true)\n",
    "    ssum = np.sum(y_pred)\n",
    "    dice = (2 * intersect ) / (fsum + ssum)\n",
    "    return dice"
   ]
  },
  {
   "cell_type": "code",
   "execution_count": null,
   "id": "e5750b44-7763-439c-9375-c3737ee5dd5a",
   "metadata": {
    "pycharm": {
     "name": "#%%\n"
    }
   },
   "outputs": [],
   "source": [
    "def convert_to_multiclass(mask, num_classes):\n",
    "    new_mask = np.zeros((mask.shape[0], mask.shape[1], num_classes), dtype=np.uint8)\n",
    "    \n",
    "    new_mask[:, :, 4] = mask[:, :, 0]\n",
    "    new_mask[:, :, 5] = mask[:, :, 1]\n",
    "    new_mask[:, :, 6] = mask[:, :, 2]\n",
    "    \n",
    "    new_mask[:, :, 1] = cv.bitwise_and(new_mask[:, :, 4], new_mask[:, :, 5])    # blood + infla\n",
    "    new_mask[:, :, 2] = cv.bitwise_and(new_mask[:, :, 6], new_mask[:, :, 5])    # endocard + infla\n",
    "    new_mask[:, :, 3] = cv.bitwise_and(new_mask[:, :, 4], new_mask[:, :, 6])    # blood + endocard\n",
    "    \n",
    "    union = new_mask[:, :, 0]\n",
    "    for i in range(1, num_classes):\n",
    "        union = cv.bitwise_or(union, new_mask[:, :, i])\n",
    "    union = np.clip(union, 0, 1)\n",
    "    new_mask[:, :, 0] = np.where((union == 0) | (union == 1), union ^ 1, union)\n",
    "\n",
    "    return new_mask"
   ]
  },
  {
   "cell_type": "code",
   "execution_count": null,
   "id": "9995acd0-2c35-44a0-88e8-74cf483ff7cb",
   "metadata": {
    "pycharm": {
     "name": "#%%\n"
    }
   },
   "outputs": [],
   "source": [
    "def get_mask_index(feature, classes):\n",
    "    class_type = feature['properties']['classification']['name']\n",
    "\n",
    "    for idx, name in enumerate(classes):\n",
    "        if class_type.lower() == name.lower():\n",
    "            return idx\n",
    "\n",
    "    # else return Other cells\n",
    "    return 0\n",
    "\n",
    "\n",
    "def get_mask(shape, annotations, classes):\n",
    "    x, y = int(shape[0]), int(shape[1])\n",
    "\n",
    "    classes_masks = [\n",
    "        np.zeros((x, y, 1), dtype='uint8')\n",
    "        for _ in range(len(classes))\n",
    "    ]\n",
    "\n",
    "    for feat in annotations:\n",
    "        geometry_name = 'geometry'\n",
    "        coors = feat[geometry_name]['coordinates'][0]\n",
    "        try:\n",
    "            pts = [[round(c[0]), round(c[1])] for c in coors]\n",
    "        except:\n",
    "            pts = [[round(c[0]), round(c[1])] for c in coors[0]]\n",
    "        cv.fillPoly(\n",
    "            classes_masks[get_mask_index(feat, classes)],\n",
    "            [np.array(pts)],\n",
    "            1\n",
    "        )  # fill with ones if cell present\n",
    "\n",
    "    mask = np.concatenate(classes_masks, axis=2)\n",
    "    return mask"
   ]
  },
  {
   "cell_type": "code",
   "execution_count": null,
   "id": "79650f14-1cc1-4ce2-ab6f-f78a9b085ed0",
   "metadata": {
    "pycharm": {
     "name": "#%%\n"
    }
   },
   "outputs": [],
   "source": [
    "def vizualize_cm(cm, num_classes=7):\n",
    "    classes = [_ for _ in range(num_classes)]\n",
    "    classes_names= ['Pozadie', 'Cieva + zápal', 'Endokard + zápal', 'Cieva + endokard', 'Cieva', 'Zápal', 'Endokard']\n",
    "    \n",
    "    cm = cm.astype('float') / cm.sum(axis=1)[:, np.newaxis]\n",
    "    cm = np.nan_to_num(cm)\n",
    "    fig, ax = plt.subplots(figsize=(10, 10))\n",
    "    im = ax.imshow(cm, interpolation='nearest', cmap=plt.cm.Blues)\n",
    "    ax.figure.colorbar(im, ax=ax)\n",
    "    # We want to show all ticks...\n",
    "    ax.set(xticks=np.arange(cm.shape[1]),\n",
    "           yticks=np.arange(cm.shape[0]),\n",
    "           # ... and label them with the respective list entries\n",
    "           xticklabels=classes_names, yticklabels=classes_names,\n",
    "           #title='Normalized Confusion Matrix',\n",
    "           ylabel='Skutočná trieda',\n",
    "           xlabel='Predikovaná trieda')\n",
    "\n",
    "    plt.setp(ax.get_xticklabels(), rotation=45, ha=\"right\",\n",
    "         rotation_mode=\"anchor\")\n",
    "    \n",
    "    fmt = '.2f' #'d' # if normalize else 'd'\n",
    "    thresh = cm.max() / 2.\n",
    "    for i in range(cm.shape[0]):\n",
    "        for j in range(cm.shape[1]):\n",
    "            ax.text(j, i, format(cm[i, j], fmt),\n",
    "                    ha=\"center\", va=\"center\",\n",
    "                    color=\"white\" if cm[i, j] > thresh else \"black\")\n",
    "    fig.tight_layout(pad=2.0, h_pad=2.0, w_pad=2.0)\n",
    "    ax.set_ylim(len(classes)-0.5, -0.5)\n",
    "    \n",
    "    plt.savefig(\"StackedUNet LAB inference cm.svg\")"
   ]
  },
  {
   "cell_type": "code",
   "execution_count": null,
   "id": "3a458b71-a0ed-4d03-8741-562f7af2bb92",
   "metadata": {
    "pycharm": {
     "name": "#%%\n"
    }
   },
   "outputs": [],
   "source": [
    "def get_metrics(df, cm_values, ground_truth_path, predicted_path, classes, shape, name, num_classes=7):\n",
    "    data = {\n",
    "        'name': name\n",
    "    }\n",
    "    gj = geojson.load(open(ground_truth_path))\n",
    "    ground_truth = get_mask(shape, gj['features'], classes)\n",
    "    \n",
    "    gj = geojson.load(open(predicted_path))\n",
    "    predicted = get_mask(shape, gj['features'], classes)\n",
    "    #predicted = postprocess_mask(predicted, True)\n",
    "    predicted = merge_nearest_endocards(predicted)\n",
    "    \n",
    "    for c_idx, c in enumerate(classes):\n",
    "        data[f'IoU {c}'] = IoU(ground_truth[:, :, c_idx], predicted[:, :, c_idx])\n",
    "        data[f'Dice {c}'] = dice_coef(ground_truth[:, :, c_idx], predicted[:, :, c_idx])\n",
    "\n",
    "    ground_truth = convert_to_multiclass(ground_truth, num_classes)\n",
    "    ground_truth = np.argmax(ground_truth, axis=-1)\n",
    "    predicted = convert_to_multiclass(predicted, num_classes)\n",
    "    predicted = np.argmax(predicted, axis=-1)\n",
    "    \n",
    "    cm = confusion_matrix(ground_truth.flatten().astype('uint8'), predicted.flatten().astype('uint8'), labels=[0, 1, 2, 3, 4, 5, 6])\n",
    "    cm_values = cm_values + cm\n",
    "    \n",
    "    return pd.concat([\n",
    "            df,\n",
    "            pd.DataFrame([data])\n",
    "        ]), cm_values"
   ]
  },
  {
   "cell_type": "code",
   "execution_count": null,
   "id": "7ba8bb8c-1f4e-4260-8f54-35fa5d4e0c90",
   "metadata": {
    "pycharm": {
     "name": "#%%\n"
    }
   },
   "outputs": [],
   "source": [
    "def calculate_metrics():\n",
    "    df = pd.DataFrame()\n",
    "    cm_values = np.zeros((7, 7))\n",
    "    \n",
    "    ground_truth_path = r'D:\\Master Thesis\\Data\\EMB-IKEM-2023-03-16\\QuPath project\\structure annotations'\n",
    "    predicted_path = r'D:\\IKEM Pracovná cesta\\DeepLabV3+ experiments\\DeepLabV3+ normal'\n",
    "    classes = [\"Blood vessels\", \"Inflammation\", \"Endocarium\"]\n",
    "    \n",
    "    json_path = r'D:\\Master Thesis\\Code\\Segmentation\\data6\\images\\images_512_256.json'\n",
    "    \n",
    "    with open(json_path) as json_file:\n",
    "        json_data = json.load(json_file)\n",
    "    \n",
    "    ground_truth_files = glob.glob(f'{ground_truth_path}\\\\*.geojson')\n",
    "    predicted_files = glob.glob(f'{predicted_path}\\\\*.geojson')\n",
    "        \n",
    "    for image in tqdm(json_data['images'], total=len(json_data['images'])):\n",
    "        name = image['name']\n",
    "        print(name)\n",
    "        predicted = [geo for geo in predicted_files if name in geo]\n",
    "        predicted = predicted[0]\n",
    "        \n",
    "        ground_truth = [geo for geo in ground_truth_files if name in geo]\n",
    "        if len(ground_truth) == 0:\n",
    "            continue\n",
    "            \n",
    "        ground_truth = ground_truth[0]\n",
    "        shape = (image['height'], image['width'])\n",
    "    \n",
    "        df, cm_values = get_metrics(df, cm_values, ground_truth, predicted, classes, shape, name)\n",
    "    \n",
    "    return df, cm_values"
   ]
  },
  {
   "cell_type": "code",
   "execution_count": null,
   "id": "bd17b558-34d4-4dcc-a6d2-6fdb8ed0cd19",
   "metadata": {
    "pycharm": {
     "is_executing": true,
     "name": "#%%\n"
    }
   },
   "outputs": [],
   "source": [
    "df, cm_values = calculate_metrics()"
   ]
  },
  {
   "cell_type": "code",
   "execution_count": null,
   "id": "a9e36cfc-f87a-431d-9762-70b2bdff8938",
   "metadata": {
    "pycharm": {
     "name": "#%%\n"
    }
   },
   "outputs": [],
   "source": [
    "cm_values"
   ]
  },
  {
   "cell_type": "code",
   "execution_count": null,
   "id": "ff3535e0-214d-4104-a41e-31b2ebb8e050",
   "metadata": {
    "pycharm": {
     "name": "#%%\n"
    }
   },
   "outputs": [],
   "source": [
    "vizualize_cm(cm_values, 7)"
   ]
  },
  {
   "cell_type": "code",
   "execution_count": null,
   "id": "93853e53-3582-440f-9d5c-5ca6d03d9fd2",
   "metadata": {
    "pycharm": {
     "name": "#%%\n"
    }
   },
   "outputs": [],
   "source": [
    "df"
   ]
  },
  {
   "cell_type": "code",
   "execution_count": null,
   "id": "ccefa04d-7e42-4a60-9b1d-74b3cdea62fa",
   "metadata": {
    "pycharm": {
     "name": "#%%\n"
    }
   },
   "outputs": [],
   "source": [
    "df.mean()"
   ]
  },
  {
   "cell_type": "code",
   "execution_count": null,
   "id": "acd7de76-c43c-41ca-9981-e70df80fac4f",
   "metadata": {
    "pycharm": {
     "name": "#%%\n"
    }
   },
   "outputs": [],
   "source": [
    "metrics_df = pd.DataFrame([\n",
    "    {\n",
    "        'Trieda': 'Cievy',\n",
    "        'IoU [%]': df[df['IoU Blood vessels'] != 0]['IoU Blood vessels'].mean() * 100,\n",
    "        'Min IoU [%]': df[df['IoU Blood vessels'] != 0]['IoU Blood vessels'].min() * 100,\n",
    "        'Max IoU [%]': df[df['IoU Blood vessels'] != 0]['IoU Blood vessels'].max() * 100,\n",
    "        'Dice [%]': df[df['Dice Blood vessels'] != 0]['Dice Blood vessels'].mean() * 100,\n",
    "        'Min Dice [%]': df[df['Dice Blood vessels'] != 0]['Dice Blood vessels'].min() * 100,\n",
    "        'Max Dice [%]': df[df['Dice Blood vessels'] != 0]['Dice Blood vessels'].max() * 100,\n",
    "    },\n",
    "    {\n",
    "        'Trieda': 'Zápal',\n",
    "        'IoU [%]': df[df['IoU Inflammation'] != 0]['IoU Inflammation'].mean() * 100,\n",
    "        'Min IoU [%]': df[df['IoU Inflammation'] != 0]['IoU Inflammation'].min() * 100,\n",
    "        'Max IoU [%]': df[df['IoU Inflammation'] != 0]['IoU Inflammation'].max() * 100,\n",
    "        'Dice [%]': df[df['Dice Inflammation'] != 0]['Dice Inflammation'].mean() * 100,\n",
    "        'Min Dice [%]': df[df['Dice Inflammation'] != 0]['Dice Inflammation'].min() * 100,\n",
    "        'Max Dice [%]': df[df['Dice Inflammation'] != 0]['Dice Inflammation'].max() * 100,\n",
    "    },\n",
    "    {\n",
    "        'Trieda': 'Endokard',\n",
    "        'IoU [%]': df[df['IoU Endocarium'] != 0]['IoU Endocarium'].mean() * 100,\n",
    "        'Min IoU [%]': df[df['IoU Endocarium'] != 0]['IoU Endocarium'].min() * 100,\n",
    "        'Max IoU [%]': df[df['IoU Endocarium'] != 0]['IoU Endocarium'].max() * 100,\n",
    "        'Dice [%]': df[df['Dice Endocarium'] != 0]['Dice Endocarium'].mean() * 100,\n",
    "        'Min Dice [%]': df[df['Dice Endocarium'] != 0]['Dice Endocarium'].min() * 100,\n",
    "        'Max Dice [%]': df[df['Dice Endocarium'] != 0]['Dice Endocarium'].max() * 100,\n",
    "    },\n",
    "])"
   ]
  },
  {
   "cell_type": "code",
   "execution_count": null,
   "id": "e44b9e40-6940-4ae4-89bd-96851062d6de",
   "metadata": {
    "pycharm": {
     "name": "#%%\n"
    }
   },
   "outputs": [],
   "source": [
    "print(metrics_df.round(2).to_latex(index=False)) "
   ]
  }
 ],
 "metadata": {
  "kernelspec": {
   "display_name": "Python 3 (ipykernel)",
   "language": "python",
   "name": "python3"
  },
  "language_info": {
   "codemirror_mode": {
    "name": "ipython",
    "version": 3
   },
   "file_extension": ".py",
   "mimetype": "text/x-python",
   "name": "python",
   "nbconvert_exporter": "python",
   "pygments_lexer": "ipython3",
   "version": "3.9.13"
  }
 },
 "nbformat": 4,
 "nbformat_minor": 5
}
