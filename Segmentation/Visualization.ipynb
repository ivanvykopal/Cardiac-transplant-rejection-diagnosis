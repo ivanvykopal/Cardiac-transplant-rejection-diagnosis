{
 "cells": [
  {
   "cell_type": "code",
   "execution_count": null,
   "id": "f1c5e723-2769-4884-b507-6d114a5f243d",
   "metadata": {
    "pycharm": {
     "name": "#%%\n"
    }
   },
   "outputs": [],
   "source": [
    "import numpy as np\n",
    "import cv2 as cv\n",
    "import matplotlib.pyplot as plt\n",
    "import matplotlib.patches as mpatches\n",
    "from Utils.Postprocessing.post_process import postprocess_mask, merge_nearest_endocards\n",
    "from Utils.Postprocessing.create_geojson import create_geojson\n",
    "\n",
    "import geojson"
   ]
  },
  {
   "cell_type": "code",
   "execution_count": null,
   "id": "8851a6d6",
   "metadata": {
    "collapsed": false,
    "jupyter": {
     "outputs_hidden": false
    },
    "pycharm": {
     "name": "#%%\n"
    }
   },
   "outputs": [],
   "source": [
    "def display_sample(display_list, name, title=None, legend=False,):\n",
    "    print(legend)\n",
    "    plt.figure(figsize=(18, 18))\n",
    "\n",
    "    for i in range(len(display_list)):\n",
    "        ax = plt.subplot(1, len(display_list), i+1)\n",
    "        \n",
    "        if legend:\n",
    "            black_patch = mpatches.Patch(color='black', label='Pozadie')\n",
    "            red_patch = mpatches.Patch(color='red', label='Skutočná maska')\n",
    "            green_patch = mpatches.Patch(color='green', label='Predikcia')\n",
    "            yellow_patch = mpatches.Patch(color='yellow', label='Správna predikcia')\n",
    "\n",
    "\n",
    "            ax.legend(handles=[black_patch, red_patch, green_patch, yellow_patch])\n",
    "        \n",
    "        if title:\n",
    "            plt.title(title[i])\n",
    "        plt.imshow(display_list[i])\n",
    "        plt.axis('off')\n",
    "    if len(title) == 1:\n",
    "        plt.savefig(f\"{name} - {title[0]}.svg\")\n",
    "    plt.show()"
   ]
  },
  {
   "cell_type": "code",
   "execution_count": null,
   "id": "5532ecf6",
   "metadata": {
    "collapsed": false,
    "jupyter": {
     "outputs_hidden": false
    },
    "pycharm": {
     "name": "#%%\n"
    }
   },
   "outputs": [],
   "source": [
    "def get_labels():\n",
    "    return np.asarray(\n",
    "        [\n",
    "            [255, 255, 255], # background\n",
    "            [128, 0, 0], #blood_vessels\n",
    "            [0, 128, 0], # inflammations\n",
    "            [128, 128, 0], # endocard\n",
    "            [0, 0, 128],\n",
    "            [128, 0, 128],\n",
    "            [0, 128, 128],\n",
    "            [0, 255, 192],\n",
    "            [255, 170, 0],\n",
    "            [192, 128, 255]\n",
    "        ]\n",
    "    )"
   ]
  },
  {
   "cell_type": "code",
   "execution_count": null,
   "id": "21b39326",
   "metadata": {
    "collapsed": false,
    "jupyter": {
     "outputs_hidden": false
    },
    "pycharm": {
     "name": "#%%\n"
    }
   },
   "outputs": [],
   "source": [
    "def convert_to_multiclass(mask, num_classes):\n",
    "    new_mask = np.zeros((mask.shape[0], mask.shape[1], num_classes), dtype=int)\n",
    "    \n",
    "    new_mask[:, :, 4] = mask[:, :, 0]\n",
    "    new_mask[:, :, 5] = mask[:, :, 1]\n",
    "    new_mask[:, :, 6] = mask[:, :, 2]\n",
    "    \n",
    "    new_mask[:, :, 1] = cv.bitwise_and(new_mask[:, :, 4], new_mask[:, :, 5])    # blood + infla\n",
    "    new_mask[:, :, 2] = cv.bitwise_and(new_mask[:, :, 6], new_mask[:, :, 5])    # endocard + infla\n",
    "    new_mask[:, :, 3] = cv.bitwise_and(new_mask[:, :, 4], new_mask[:, :, 6])    # blood + endocard\n",
    "    \n",
    "    union = new_mask[:, :, 0]\n",
    "    for i in range(1, num_classes):\n",
    "        union = cv.bitwise_or(union, new_mask[:, :, i])\n",
    "    union = np.clip(union, 0, 1)\n",
    "    new_mask[:, :, 0] = np.where((union == 0) | (union == 1), union ^ 1, union)\n",
    "\n",
    "    new_mask[:, :, 4] = cv.bitwise_xor(new_mask[:, :, 4], new_mask[:, :, 1])\n",
    "    new_mask[:, :, 4] = cv.bitwise_xor(new_mask[:, :, 4], new_mask[:, :, 3])\n",
    "    \n",
    "    new_mask[:, :, 5] = cv.bitwise_xor(new_mask[:, :, 5], new_mask[:, :, 1])\n",
    "    new_mask[:, :, 5] = cv.bitwise_xor(new_mask[:, :, 5], new_mask[:, :, 2])\n",
    "    \n",
    "    new_mask[:, :, 6] = cv.bitwise_xor(new_mask[:, :, 6], new_mask[:, :, 2])\n",
    "    new_mask[:, :, 6] = cv.bitwise_xor(new_mask[:, :, 6], new_mask[:, :, 3])\n",
    "\n",
    "    return new_mask"
   ]
  },
  {
   "cell_type": "code",
   "execution_count": null,
   "id": "58992bbd",
   "metadata": {
    "collapsed": false,
    "jupyter": {
     "outputs_hidden": false
    },
    "pycharm": {
     "name": "#%%\n"
    }
   },
   "outputs": [],
   "source": [
    "def create_RGB_mask(mask, labels, shape):\n",
    "    canvas = np.zeros((shape[0], shape[1], 3))\n",
    "    for x in range(shape[0]):\n",
    "        for y in range(shape[1]):\n",
    "            canvas[x, y, :] = labels[mask[x, y]]\n",
    "\n",
    "    return canvas"
   ]
  },
  {
   "cell_type": "code",
   "execution_count": null,
   "id": "ed063f43",
   "metadata": {
    "collapsed": false,
    "jupyter": {
     "outputs_hidden": false
    },
    "pycharm": {
     "name": "#%%\n"
    }
   },
   "outputs": [],
   "source": [
    "def get_mask_index(feature, classes):\n",
    "    class_type = feature['properties']['classification']['name']\n",
    "\n",
    "    for idx, name in enumerate(classes):\n",
    "        if class_type.lower() == name.lower():\n",
    "            return idx\n",
    "\n",
    "    # else return Other cells\n",
    "    return 0\n",
    "\n",
    "\n",
    "def get_mask(shape, annotations, classes):\n",
    "    x, y = int(shape[0]), int(shape[1])\n",
    "\n",
    "    classes_masks = [\n",
    "        np.zeros((x, y, 1), dtype='uint8')\n",
    "        for _ in range(len(classes))\n",
    "    ]\n",
    "\n",
    "    for feat in annotations:\n",
    "        geometry_name = 'geometry'\n",
    "        coors = feat[geometry_name]['coordinates'][0]\n",
    "        pts = [[round(c[0]), round(c[1])] for c in coors]\n",
    "        cv.fillPoly(\n",
    "            classes_masks[get_mask_index(feat, classes)],\n",
    "            [np.array(pts)],\n",
    "            1\n",
    "        )  # fill with ones if cell present\n",
    "\n",
    "    mask = np.concatenate(classes_masks, axis=2)\n",
    "    return mask"
   ]
  },
  {
   "cell_type": "code",
   "execution_count": null,
   "id": "9600aa03",
   "metadata": {
    "collapsed": false,
    "jupyter": {
     "outputs_hidden": false
    },
    "pycharm": {
     "name": "#%%\n"
    }
   },
   "outputs": [],
   "source": [
    "def create_prediction_img(true, pred, frag_x, frag_y, tissue=None):\n",
    "    new_image = np.zeros((pred.shape[0], pred.shape[1], 3))\n",
    "    new_image[:, :, 0] = true\n",
    "    new_image[:, :, 1] = pred\n",
    "\n",
    "    #new_image[np.where((new_image==[0, 0, 0]).all(axis=2))] = [1,1,1]\n",
    "\n",
    "    if tissue:\n",
    "        color = (0, 0, 0)\n",
    "        thickness = 2\n",
    "        pts = [[round(c[0]) - frag_x, round(c[1]) - frag_y] for c in tissue[0]]\n",
    "        new_image = cv.polylines(new_image, [np.array(pts)], True, color, thickness)\n",
    "\n",
    "    return new_image"
   ]
  },
  {
   "cell_type": "code",
   "execution_count": null,
   "id": "cc47e207",
   "metadata": {
    "collapsed": false,
    "jupyter": {
     "outputs_hidden": false
    },
    "pycharm": {
     "name": "#%%\n"
    }
   },
   "outputs": [],
   "source": [
    "def vizualize(data_path, ground_truth_path, predicted_path, tissue_mask, shape, num_classes, fragment):\n",
    "    classes = [\"Endocarium\"]#[\"Blood vessels\", \"Inflammation\", \"Endocarium\"]\n",
    "    frag_x, frag_y, width, height = fragment\n",
    "\n",
    "    name = predicted_path.split('\\\\')[-2]\n",
    "    print(name)\n",
    "    \n",
    "    \n",
    "    img = np.load(data_path)\n",
    "    gj = geojson.load(open(ground_truth_path))\n",
    "    ground_truth = get_mask(shape, gj['features'], classes)\n",
    "    print('Mask Created!')\n",
    "    ground_truth = ground_truth[frag_y:frag_y + height, frag_x:frag_x + width]\n",
    "    \n",
    "    gj = geojson.load(open(predicted_path))\n",
    "    predicted = get_mask(shape, gj['features'], classes)\n",
    "    #predicted = postprocess_mask(predicted, dilate=True)\n",
    "    print(predicted.shape)\n",
    "    #predicted = merge_nearest_endocards(predicted)\n",
    "    print(predicted.shape)\n",
    "    \n",
    "    print('Mask Created!')\n",
    "    predicted = predicted[frag_y:frag_y + height, frag_x:frag_x + width]\n",
    "\n",
    "    gj = geojson.load(open(tissue_mask))\n",
    "    #tissue = gj[0]['geometry']['coordinates'][1]\n",
    "    tissue = None\n",
    "    \n",
    "    #geo_file = create_geojson(predicted, ['blood_vessels', 'inflammations', 'endocariums'])\n",
    "    \n",
    "    \n",
    "    #print('Mask Converted!')\n",
    "    #x, y, size = 3500, 1500, 2000\n",
    "    #x, y, size = 6500, 1500, 2000\n",
    "    #x, y, size = 500, 500, 2000\n",
    "    x, y, size = 0, 0, 100_000\n",
    "    \n",
    "    display_sample([img[y:y + size,x:x + size]], name, ['Originálny snímok', 'Pôvodná maska', 'Predikcia'])\n",
    "    display_sample([create_prediction_img(ground_truth[y:y + size,x:x + size, 0], predicted[y:y + size,x:x + size, 0], frag_x, frag_y)], name, [classes[0]], legend=False)\n",
    "    #display_sample([create_prediction_img(ground_truth[y:y + size,x:x + size, 1], predicted[y:y + size,x:x + size, 1], frag_x, frag_y)], name, [classes[1]], legend=False)\n",
    "    #display_sample([create_prediction_img(ground_truth[y:y + size,x:x + size, 2], predicted[y:y + size,x:x + size, 2], frag_x, frag_y)], name, [classes[2]], legend=False)"
   ]
  },
  {
   "cell_type": "code",
   "execution_count": null,
   "id": "9ab6baf1",
   "metadata": {
    "collapsed": false,
    "jupyter": {
     "outputs_hidden": false
    },
    "pycharm": {
     "name": "#%%\n"
    }
   },
   "outputs": [],
   "source": [
    "vizualize(\n",
    "    data_path=r'D:\\Master Thesis\\Code\\Segmentation\\data4\\images\\7026_21_HE_1_0.npy',\n",
    "    ground_truth_path=r'D:\\Master Thesis\\Data\\Annotations\\7026_21_HE.vsi - 20x.geojson',\n",
    "    predicted_path=r'D:\\Master Thesis\\DP3 results\\Evaluation 11-04-2023\\U-Net++\\7026_21_HE.geojson',\n",
    "    tissue_mask=r'D:\\Master Thesis\\Data\\EMB-IKEM-2022-03-09\\7026_21_HE.vsi - 20x_tissue and cells.geojson',\n",
    "    shape=(9849, 33381),\n",
    "    num_classes=7,\n",
    "    fragment=(9671, 2839, 8600, 5192)\n",
    ")"
   ]
  },
  {
   "cell_type": "code",
   "execution_count": null,
   "id": "de3c5e32-ab9e-4682-9c67-979c5b6e2952",
   "metadata": {},
   "outputs": [],
   "source": [
    "#endokard\n",
    "vizualize(\n",
    "    data_path=r'D:\\Master Thesis\\Code\\Segmentation\\data5\\SRel images\\3002_21_SRel_4_0.npy',\n",
    "    ground_truth_path=r'D:\\Master Thesis\\Data\\SRel annotations\\3002_21_SRel.vsi - 20x_annotations.geojson',\n",
    "    predicted_path=r'E:\\Master Thesis\\DP3 results\\SRel2\\3002_21_SRel.geojson',\n",
    "    tissue_mask=r'D:\\Master Thesis\\Data\\EMB-IKEM-2022-03-09\\QuPath project EMB - anotations\\SRel classification\\3002_21_SRel.vsi - 20x.geojson',\n",
    "    shape=(14374, 43593),\n",
    "    num_classes=7,\n",
    "    fragment=(32199, 1023, 10616, 6648)\n",
    ")"
   ]
  },
  {
   "cell_type": "code",
   "execution_count": null,
   "id": "07da34e1-36a5-461a-8232-b95a8635767e",
   "metadata": {
    "pycharm": {
     "name": "#%%\n"
    }
   },
   "outputs": [],
   "source": [
    "plt.figure(figsize=(10, 10))\n",
    "black_patch = mpatches.Patch(color='black', label='Pozadie')\n",
    "red_patch = mpatches.Patch(color='red', label='Skutočná maska')\n",
    "green_patch = mpatches.Patch(color='green', label='Predikcia')\n",
    "yellow_patch = mpatches.Patch(color='yellow', label='Správna predikcia')\n",
    "ax = plt.subplot(1, 1, 1)\n",
    "ax.legend(handles=[black_patch, red_patch, green_patch, yellow_patch], fontsize = 25)\n",
    "plt.show()"
   ]
  },
  {
   "cell_type": "code",
   "execution_count": null,
   "id": "6d39ff8b-edb4-499b-a7bb-eef08f7d4b11",
   "metadata": {
    "pycharm": {
     "name": "#%%\n"
    }
   },
   "outputs": [],
   "source": [
    "def process_image(mask, dilate=False):\n",
    "    kernel_size = (51, 51)\n",
    "    \n",
    "    for idx in range(mask.shape[2]):\n",
    "        img_modified = mask[:, :, idx]\n",
    "\n",
    "        img_modified = cv.morphologyEx(img_modified, cv.MORPH_OPEN, kernel_size)\n",
    "\n",
    "        horizontal_kernel = cv.getStructuringElement(cv.MORPH_RECT, (75, 5))\n",
    "        detected_lines = cv.morphologyEx(img_modified, cv.MORPH_OPEN, horizontal_kernel, iterations=2)\n",
    "        cnts = cv.findContours(detected_lines, cv.RETR_EXTERNAL, cv.CHAIN_APPROX_SIMPLE)\n",
    "        cnts = cnts[0] if len(cnts) == 2 else cnts[1]\n",
    "        for c in cnts:\n",
    "            cv.drawContours(img_modified, [c], -1, (0, 0, 0), 5)\n",
    "        \n",
    "        contours, _ = cv.findContours(img_modified, cv.RETR_EXTERNAL, cv.CHAIN_APPROX_SIMPLE)\n",
    "        for cnt in contours:\n",
    "            if len(cnt) < 5:\n",
    "                cv.fillPoly(\n",
    "                    img_modified,\n",
    "                    [cnt],\n",
    "                    0\n",
    "                )\n",
    "\n",
    "        img_modified = cv.GaussianBlur(img_modified, kernel_size, 0)\n",
    "        \n",
    "        contours, _ = cv.findContours(img_modified, cv.RETR_EXTERNAL, cv.CHAIN_APPROX_SIMPLE)\n",
    "        for cnt in contours:\n",
    "            area = cv.contourArea(cnt)\n",
    "            #print(cnt, len(cnt))\n",
    "            if area < 2500:\n",
    "                cv.fillPoly(\n",
    "                    img_modified,\n",
    "                    [cnt],\n",
    "                    0\n",
    "                )\n",
    "\n",
    "        img_modified = cv.morphologyEx(img_modified, cv.MORPH_OPEN, kernel_size * 5)\n",
    "        if dilate:\n",
    "            img_modified = cv.dilate(img_modified, kernel_size * 5, 0)\n",
    "        \n",
    "        mask[:, :, idx] = img_modified\n",
    "        \n",
    "    return mask"
   ]
  },
  {
   "cell_type": "code",
   "execution_count": null,
   "id": "b044e1f2-fab1-4031-b1b2-4a67dbd31851",
   "metadata": {
    "pycharm": {
     "name": "#%%\n"
    }
   },
   "outputs": [],
   "source": [
    "def experiment(data_path, ground_truth_path, predicted_path, shape, num_classes, fragment):\n",
    "    classes = [\"Blood vessels\", \"Inflammation\", \"Endocarium\"]\n",
    "    x, y, width, height = fragment\n",
    "    \n",
    "    \n",
    "    img = np.load(data_path)\n",
    "    gj = geojson.load(open(ground_truth_path))\n",
    "    ground_truth = get_mask(shape, gj['features'], classes)\n",
    "    print('Mask Created!')\n",
    "    ground_truth = ground_truth[y:y + height, x:x + width]\n",
    "    ground_truth_class = convert_to_multiclass(ground_truth, num_classes)\n",
    "    \n",
    "    ground_truth_class = np.argmax(ground_truth_class, axis=-1)\n",
    "    ground_truth_class = np.expand_dims(ground_truth_class, -1)\n",
    "    print('Mask Converted!')\n",
    "    \n",
    "    gj = geojson.load(open(predicted_path))\n",
    "    predicted = get_mask(shape, gj['features'], classes)\n",
    "    print('Mask Created!')\n",
    "    predicted = predicted[y:y + height, x:x + width]\n",
    "    \n",
    "    print('Mask Converted!')\n",
    "    #x, y, size = 3500, 1500, 2000\n",
    "    #x, y, size = 6500, 1500, 2000\n",
    "    #x, y, size = 500, 500, 2000\n",
    "    x, y, size = 0, 0, 100_000\n",
    "    \n",
    "    # predicted = process_image(predicted, dilate=True)\n",
    "    \n",
    "    display_sample([img[y:y + size,x:x + size]], ['Originálny snímok', 'Pôvodná maska', 'Predikcia'])\n",
    "    \n",
    "    display_sample([create_prediction_img(ground_truth[y:y + size,x:x + size, 0], predicted[y:y + size,x:x + size, 0])], [classes[0]], legend=False)\n",
    "    display_sample([create_prediction_img(ground_truth[y:y + size,x:x + size, 1], predicted[y:y + size,x:x + size, 1])], [classes[1]], legend=False)\n",
    "    display_sample([create_prediction_img(ground_truth[y:y + size,x:x + size, 2], predicted[y:y + size,x:x + size, 2])], [classes[2]], legend=False)"
   ]
  },
  {
   "cell_type": "code",
   "execution_count": null,
   "id": "42179cdc-8abb-4ee5-a18a-290beb95048f",
   "metadata": {
    "pycharm": {
     "name": "#%%\n"
    }
   },
   "outputs": [],
   "source": [
    "experiment(\n",
    "    data_path=r'D:\\Master Thesis\\Code\\Segmentation\\data4\\images\\7026_21_HE_1_0.npy',\n",
    "    ground_truth_path=r'D:\\Master Thesis\\Data\\Annotations\\7026_21_HE.vsi - 20x.geojson',\n",
    "    predicted_path=r'D:\\Master Thesis\\Nested U-Net\\7026_21_HE.geojson',\n",
    "    shape=(9849, 33381),\n",
    "    num_classes=7,\n",
    "    fragment=(9671, 2839, 8600, 5192)\n",
    ")"
   ]
  },
  {
   "cell_type": "code",
   "execution_count": null,
   "id": "b96a0c81-0def-431e-a6b4-f8adc2bb3916",
   "metadata": {
    "pycharm": {
     "name": "#%%\n"
    }
   },
   "outputs": [],
   "source": []
  }
 ],
 "metadata": {
  "kernelspec": {
   "display_name": "Python 3 (ipykernel)",
   "language": "python",
   "name": "python3"
  },
  "language_info": {
   "codemirror_mode": {
    "name": "ipython",
    "version": 3
   },
   "file_extension": ".py",
   "mimetype": "text/x-python",
   "name": "python",
   "nbconvert_exporter": "python",
   "pygments_lexer": "ipython3",
   "version": "3.10.2"
  }
 },
 "nbformat": 4,
 "nbformat_minor": 5
}
