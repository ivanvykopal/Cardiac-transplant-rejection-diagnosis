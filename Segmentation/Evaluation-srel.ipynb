{
 "cells": [
  {
   "cell_type": "code",
   "execution_count": null,
   "id": "1dadcbe7-9f05-4886-9174-857298f0df59",
   "metadata": {
    "pycharm": {
     "name": "#%%\n"
    }
   },
   "outputs": [],
   "source": [
    "import glob\n",
    "import matplotlib.pyplot as plt\n",
    "import matplotlib.patches as mpatches\n",
    "import numpy as np\n",
    "import cv2 as cv\n",
    "import json\n",
    "import os\n",
    "import pandas as pd\n",
    "from tqdm import tqdm\n",
    "import operator\n",
    "\n",
    "import matplotlib.pyplot as plt\n",
    "import matplotlib as mpl\n",
    "mpl.rcParams['axes.grid'] = False\n",
    "mpl.rcParams['figure.figsize'] = (12,12)\n",
    "import matplotlib.image as mpimg\n",
    "\n",
    "import geojson\n",
    "from sklearn.metrics import confusion_matrix, ConfusionMatrixDisplay\n",
    "from Utils.Postprocessing.post_process import postprocess_mask, create_geojson\n",
    "\n",
    "import geopandas as gpd\n",
    "import rtree"
   ]
  },
  {
   "cell_type": "code",
   "execution_count": null,
   "id": "b03e8ea3-8a3b-43cc-b4be-2f91ece3b618",
   "metadata": {},
   "outputs": [],
   "source": [
    "def find_distance(gdf_endocard):\n",
    "    idx = rtree.index.Index()\n",
    "    for i, row in gdf_endocard.iterrows():\n",
    "        idx.insert(i, row.geometry.bounds)\n",
    "\n",
    "    for i, row in gdf_endocard.iterrows():\n",
    "        for j in idx.intersection(row.geometry.buffer(15).bounds):\n",
    "            if i < j and row.geometry.distance(gdf_endocard.loc[j, 'geometry']) < 15:\n",
    "                return True\n",
    "\n",
    "    return False\n",
    "\n",
    "\n",
    "def merge_nearest_endocards(mask):\n",
    "    endocard_mask = mask[:,:,-1]\n",
    "    struct_elem = cv.getStructuringElement(cv.MORPH_ELLIPSE, (11, 11))\n",
    "    dilate_count = 0\n",
    "\n",
    "    while True:\n",
    "        geojson_file = create_geojson(endocard_mask, [\n",
    "            \"endocariums\"\n",
    "        ])\n",
    "        gdf_endocard = gpd.GeoDataFrame.from_features(geojson_file)\n",
    "\n",
    "        distance = find_distance(gdf_endocard)\n",
    "        if distance:\n",
    "            endocard_mask = cv.dilate(endocard_mask, struct_elem)\n",
    "            dilate_count += 1\n",
    "        else:\n",
    "            break\n",
    "\n",
    "    for _ in range(dilate_count):\n",
    "        endocard_mask = cv.erode(endocard_mask, struct_elem)\n",
    "\n",
    "    mask[:,:,-1] = endocard_mask\n",
    "    return mask"
   ]
  },
  {
   "cell_type": "code",
   "execution_count": null,
   "id": "01b06cba-ee21-4f7e-9bf8-b2f2e5097b23",
   "metadata": {
    "pycharm": {
     "name": "#%%\n"
    }
   },
   "outputs": [],
   "source": [
    "def IoU(y_true, y_pred):\n",
    "    y_true = y_true.flatten()\n",
    "    y_pred = y_pred.flatten()\n",
    "    \n",
    "    intersection = np.logical_and(y_true, y_pred)\n",
    "    union = np.logical_or(y_true, y_pred)\n",
    "    iou_score = np.sum(intersection) / np.sum(union)\n",
    "    return iou_score"
   ]
  },
  {
   "cell_type": "code",
   "execution_count": null,
   "id": "90051c67-4620-4d7d-91bd-72319f59a757",
   "metadata": {
    "pycharm": {
     "name": "#%%\n"
    }
   },
   "outputs": [],
   "source": [
    "def dice_coef(y_true, y_pred):\n",
    "    y_true = y_true.flatten()\n",
    "    y_pred = y_pred.flatten()\n",
    "    \n",
    "    intersect = np.sum(y_true * y_pred)\n",
    "    fsum = np.sum(y_true)\n",
    "    ssum = np.sum(y_pred)\n",
    "    dice = (2 * intersect ) / (fsum + ssum)\n",
    "    return dice"
   ]
  },
  {
   "cell_type": "code",
   "execution_count": null,
   "id": "e5750b44-7763-439c-9375-c3737ee5dd5a",
   "metadata": {
    "pycharm": {
     "name": "#%%\n"
    }
   },
   "outputs": [],
   "source": [
    "def convert_to_multiclass(mask, num_classes):\n",
    "    new_mask = np.zeros((mask.shape[0], mask.shape[1], num_classes), dtype=np.uint8)\n",
    "    \n",
    "    new_mask[:, :, 4] = mask[:, :, 0]\n",
    "    new_mask[:, :, 5] = mask[:, :, 1]\n",
    "    new_mask[:, :, 6] = mask[:, :, 2]\n",
    "    \n",
    "    new_mask[:, :, 1] = cv.bitwise_and(new_mask[:, :, 4], new_mask[:, :, 5])    # blood + infla\n",
    "    new_mask[:, :, 2] = cv.bitwise_and(new_mask[:, :, 6], new_mask[:, :, 5])    # endocard + infla\n",
    "    new_mask[:, :, 3] = cv.bitwise_and(new_mask[:, :, 4], new_mask[:, :, 6])    # blood + endocard\n",
    "    \n",
    "    union = new_mask[:, :, 0]\n",
    "    for i in range(1, num_classes):\n",
    "        union = cv.bitwise_or(union, new_mask[:, :, i])\n",
    "    union = np.clip(union, 0, 1)\n",
    "    new_mask[:, :, 0] = np.where((union == 0) | (union == 1), union ^ 1, union)\n",
    "\n",
    "    return new_mask"
   ]
  },
  {
   "cell_type": "code",
   "execution_count": null,
   "id": "9995acd0-2c35-44a0-88e8-74cf483ff7cb",
   "metadata": {
    "pycharm": {
     "name": "#%%\n"
    }
   },
   "outputs": [],
   "source": [
    "def get_mask_index(feature, classes):\n",
    "    class_type = feature['properties']['classification']['name']\n",
    "\n",
    "    for idx, name in enumerate(classes):\n",
    "        if class_type.lower() == name.lower():\n",
    "            return idx\n",
    "\n",
    "    # else return Other cells\n",
    "    return 0\n",
    "\n",
    "\n",
    "def get_mask(shape, annotations, classes):\n",
    "    x, y = int(shape[0]), int(shape[1])\n",
    "\n",
    "    classes_masks = [\n",
    "        np.zeros((x, y, 1), dtype='uint8')\n",
    "        for _ in range(len(classes))\n",
    "    ]\n",
    "\n",
    "    for feat in annotations:\n",
    "        geometry_name = 'geometry'\n",
    "        coors = feat[geometry_name]['coordinates'][0]\n",
    "        try:\n",
    "            pts = [[round(c[0]), round(c[1])] for c in coors]\n",
    "        except:\n",
    "            pts = [[round(c[0]), round(c[1])] for c in coors[0]]\n",
    "        if len(pts) > 0:\n",
    "            cv.fillPoly(\n",
    "                classes_masks[get_mask_index(feat, classes)],\n",
    "                [np.array(pts)],\n",
    "                1\n",
    "            )  # fill with ones if cell present\n",
    "\n",
    "    mask = np.concatenate(classes_masks, axis=2)\n",
    "    return mask"
   ]
  },
  {
   "cell_type": "code",
   "execution_count": null,
   "id": "3a458b71-a0ed-4d03-8741-562f7af2bb92",
   "metadata": {
    "pycharm": {
     "name": "#%%\n"
    }
   },
   "outputs": [],
   "source": [
    "def get_metrics(df, ground_truth_path, predicted_path, classes, shape, name):\n",
    "    data = {\n",
    "        'name': name\n",
    "    }\n",
    "    gj = geojson.load(open(ground_truth_path))\n",
    "    ground_truth = get_mask(shape, gj['features'], classes)\n",
    "    \n",
    "    gj = geojson.load(open(predicted_path))\n",
    "    predicted = get_mask(shape, gj['features'], classes)\n",
    "    #predicted = postprocess_mask(predicted, True)\n",
    "    #predicted = merge_nearest_endocards(predicted)\n",
    "    \n",
    "    for c_idx, c in enumerate(classes):\n",
    "        data[f'IoU {c}'] = IoU(ground_truth[:, :, c_idx], predicted[:, :, c_idx])\n",
    "        data[f'Dice {c}'] = dice_coef(ground_truth[:, :, c_idx], predicted[:, :, c_idx])\n",
    "\n",
    "    \n",
    "    return pd.concat([\n",
    "            df,\n",
    "            pd.DataFrame([data])\n",
    "        ])"
   ]
  },
  {
   "cell_type": "code",
   "execution_count": null,
   "id": "7ba8bb8c-1f4e-4260-8f54-35fa5d4e0c90",
   "metadata": {
    "pycharm": {
     "name": "#%%\n"
    }
   },
   "outputs": [],
   "source": [
    "def calculate_metrics():\n",
    "    df = pd.DataFrame()\n",
    "    \n",
    "    ground_truth_path = r'E:\\Master Thesis\\DP3 results\\Doctors\\SRel - opravene'\n",
    "    predicted_path = r'E:\\Master Thesis\\DP3 results\\Doctors\\SRel - endocard'\n",
    "    classes = ['Endocarium']\n",
    "    \n",
    "    json_path = './data/images_512.json'\n",
    "    \n",
    "    with open(json_path) as json_file:\n",
    "        json_data = json.load(json_file)\n",
    "    \n",
    "    ground_truth_files = glob.glob(f'{ground_truth_path}\\\\*.geojson')\n",
    "    predicted_files = glob.glob(f'{predicted_path}\\\\*.geojson')\n",
    "    \n",
    "    for image in tqdm(json_data['images'], total=len(json_data['images'])):\n",
    "        name = image['name'].replace('HE', '')\n",
    "        print(name)\n",
    "        predicted = [geo for geo in predicted_files if name in geo]\n",
    "        if len(predicted) == 0:\n",
    "            continue\n",
    "        predicted = predicted[0]\n",
    "        \n",
    "        ground_truth = [geo for geo in ground_truth_files if name in geo]\n",
    "        if len(ground_truth) == 0:\n",
    "            continue\n",
    "            \n",
    "        ground_truth = ground_truth[0]\n",
    "        shape = (image['height'], image['width'])\n",
    "    \n",
    "        df = get_metrics(df, ground_truth, predicted, classes, shape, name)\n",
    "    \n",
    "    return df"
   ]
  },
  {
   "cell_type": "code",
   "execution_count": null,
   "id": "bd17b558-34d4-4dcc-a6d2-6fdb8ed0cd19",
   "metadata": {
    "pycharm": {
     "is_executing": true,
     "name": "#%%\n"
    }
   },
   "outputs": [],
   "source": [
    "df = calculate_metrics()"
   ]
  },
  {
   "cell_type": "code",
   "execution_count": null,
   "id": "93853e53-3582-440f-9d5c-5ca6d03d9fd2",
   "metadata": {
    "pycharm": {
     "name": "#%%\n"
    }
   },
   "outputs": [],
   "source": [
    "df"
   ]
  },
  {
   "cell_type": "code",
   "execution_count": null,
   "id": "ccefa04d-7e42-4a60-9b1d-74b3cdea62fa",
   "metadata": {
    "pycharm": {
     "name": "#%%\n"
    }
   },
   "outputs": [],
   "source": [
    "df.mean()"
   ]
  },
  {
   "cell_type": "code",
   "execution_count": null,
   "id": "acd7de76-c43c-41ca-9981-e70df80fac4f",
   "metadata": {
    "pycharm": {
     "name": "#%%\n"
    }
   },
   "outputs": [],
   "source": [
    "metrics_df = pd.DataFrame([\n",
    "    {\n",
    "        'Trieda': 'Endokard',\n",
    "        'IoU [%]': df[df['IoU Endocarium'] != 0]['IoU Endocarium'].mean() * 100,\n",
    "        'Min IoU [%]': df[df['IoU Endocarium'] != 0]['IoU Endocarium'].min() * 100,\n",
    "        'Max IoU [%]': df[df['IoU Endocarium'] != 0]['IoU Endocarium'].max() * 100,\n",
    "        'Dice [%]': df[df['Dice Endocarium'] != 0]['Dice Endocarium'].mean() * 100,\n",
    "        'Min Dice [%]': df[df['Dice Endocarium'] != 0]['Dice Endocarium'].min() * 100,\n",
    "        'Max Dice [%]': df[df['Dice Endocarium'] != 0]['Dice Endocarium'].max() * 100,\n",
    "    },\n",
    "])"
   ]
  },
  {
   "cell_type": "code",
   "execution_count": null,
   "id": "e44b9e40-6940-4ae4-89bd-96851062d6de",
   "metadata": {
    "pycharm": {
     "name": "#%%\n"
    }
   },
   "outputs": [],
   "source": [
    "print(metrics_df.round(2).to_latex(index=False)) "
   ]
  }
 ],
 "metadata": {
  "kernelspec": {
   "display_name": "Python 3 (ipykernel)",
   "language": "python",
   "name": "python3"
  },
  "language_info": {
   "codemirror_mode": {
    "name": "ipython",
    "version": 3
   },
   "file_extension": ".py",
   "mimetype": "text/x-python",
   "name": "python",
   "nbconvert_exporter": "python",
   "pygments_lexer": "ipython3",
   "version": "3.10.2"
  }
 },
 "nbformat": 4,
 "nbformat_minor": 5
}
